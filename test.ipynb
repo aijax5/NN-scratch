{
 "nbformat": 4,
 "nbformat_minor": 2,
 "metadata": {
  "language_info": {
   "name": "python",
   "codemirror_mode": {
    "name": "ipython",
    "version": 3
   },
   "version": "3.6.8-final"
  },
  "orig_nbformat": 2,
  "file_extension": ".py",
  "mimetype": "text/x-python",
  "name": "python",
  "npconvert_exporter": "python",
  "pygments_lexer": "ipython3",
  "version": 3,
  "kernelspec": {
   "name": "python36864bitmlvenvvirtualenv7d88894919b14083a2990028bc2685ff",
   "display_name": "Python 3.6.8 64-bit ('ml_venv': virtualenv)"
  }
 },
 "cells": [
  {
   "cell_type": "code",
   "execution_count": 1,
   "metadata": {},
   "outputs": [],
   "source": [
    "import numpy as np\n",
    "from src.NN import NN\n",
    "import src.utils as utils\n",
    "\n",
    "# Settings\n",
    "csv_filename = \"data/seeds_dataset.csv\"\n",
    "hidden_layers = [5] # number of nodes in hidden layers i.e. [layer1, layer2, ...]\n",
    "eta = 0.1 # learning rate\n",
    "n_epochs = 400 # number of training epochs\n",
    "n_folds = 4 # number of folds for cross-validation\n",
    "seed_crossval = 1 # seed for cross-validation\n",
    "seed_weights = 1 # "
   ]
  },
  {
   "cell_type": "code",
   "execution_count": 2,
   "metadata": {},
   "outputs": [
    {
     "name": "stdout",
     "output_type": "stream",
     "text": "Reading 'data/seeds_dataset.csv'...\n"
    }
   ],
   "source": [
    "\n",
    "print(\"Reading '{}'...\".format(csv_filename))\n",
    "X, y, n_classes = utils.read_csv(csv_filename, target_name=\"y\", normalize=True)"
   ]
  },
  {
   "cell_type": "code",
   "execution_count": 3,
   "metadata": {},
   "outputs": [
    {
     "name": "stdout",
     "output_type": "stream",
     "text": "[[ 0.14209777]\n [ 0.01118803]\n [-0.19206658]\n [-0.34709127]\n [ 0.44525718]\n [-0.16106164]\n [-0.05426685]\n [-0.25407645]\n [ 0.61406184]\n [ 0.54860697]\n [ 0.14209777]\n [-0.2816364 ]\n [-0.32986631]\n [-0.36776123]\n [-0.3815412 ]\n [-0.08871678]\n [-0.29541637]\n [ 0.29023248]\n [-0.05082185]\n [-0.73293052]\n [-0.23685149]\n [-0.25407645]\n [ 0.35568735]\n [-0.95341008]\n [ 0.05597294]\n [ 0.46248214]\n [-0.62958072]\n [-0.72604053]\n [-0.25407645]\n [-0.48144601]\n [-0.58135081]\n [ 0.22133261]\n [-0.26096644]\n [-0.31264134]\n [ 0.06975291]\n [ 0.43836719]\n [ 0.46592713]\n [ 0.76908654]\n [-0.01637192]\n [-0.19551157]\n [-0.45044107]\n [-0.46422104]\n [-0.58135081]\n [ 0.22477761]\n [ 0.09042287]\n [-0.36087125]\n [ 0.1765477 ]\n [ 0.04908295]\n [-0.01981691]\n [ 0.00429804]\n [-0.14383667]\n [ 0.32123742]\n [-0.12316671]\n [-0.1782866 ]\n [-0.11283173]\n [ 0.06286292]\n [-0.13350169]\n [ 0.024968  ]\n [ 0.18343769]\n [-0.9430751 ]\n [-1.18077964]\n [-1.24623451]\n [-0.85695027]\n [-0.56068085]\n [-0.71226056]\n [-0.67781062]\n [-0.17484161]\n [-0.28852639]\n [-0.16450663]\n [-0.72948552]\n [ 0.95856117]\n [ 0.6864067 ]\n [ 0.83109642]\n [ 1.46842017]\n [ 0.67951672]\n [ 0.66229175]\n [ 0.85176638]\n [ 2.01961909]\n [ 1.40985528]\n [ 0.78286651]\n [ 0.57961191]\n [ 1.33406543]\n [ 1.84392443]\n [ 1.62688986]\n [ 1.6062199 ]\n [ 1.17904074]\n [ 1.38918533]\n [ 1.42363526]\n [ 2.18153377]\n [ 2.07818398]\n [ 1.8094745 ]\n [ 1.34784541]\n [ 1.36507037]\n [ 1.28928052]\n [ 1.21004568]\n [ 0.69674168]\n [ 1.53732004]\n [ 1.42363526]\n [ 1.1445908 ]\n [ 1.33406543]\n [ 0.53827199]\n [ 1.08258093]\n [ 1.58899493]\n [ 1.49253512]\n [ 1.41330028]\n [ 1.37196036]\n [ 1.37885035]\n [ 0.95856117]\n [ 1.75435461]\n [ 1.27550055]\n [ 1.24105062]\n [ 1.56143499]\n [ 1.47531016]\n [ 1.47875515]\n [ 2.10918891]\n [ 1.4511952 ]\n [ 1.41674527]\n [ 1.48220014]\n [ 1.39263032]\n [ 1.78535955]\n [ 1.85770441]\n [ 1.13425583]\n [ 0.45559215]\n [ 1.23416063]\n [ 0.39358228]\n [ 1.34440041]\n [ 1.30995048]\n [ 1.07913593]\n [ 1.83014446]\n [ 0.93100122]\n [ 1.18937572]\n [ 1.40985528]\n [ 0.18343769]\n [ 0.45214716]\n [ 0.24544757]\n [ 0.18343769]\n [ 0.86554635]\n [ 0.24889256]\n [ 0.25922754]\n [ 0.47626211]\n [-0.61235575]\n [-0.52623092]\n [-0.51934093]\n [-0.90518018]\n [-1.04297991]\n [-1.2531245 ]\n [-1.17733465]\n [-0.81216536]\n [-0.7398205 ]\n [-1.39781421]\n [-1.03953492]\n [-0.97752504]\n [-0.89140021]\n [-1.26345948]\n [-1.2014496 ]\n [-1.26001448]\n [-1.20833958]\n [-0.93618512]\n [-1.06709486]\n [-1.15666469]\n [-0.79494039]\n [-0.97408004]\n [-0.96374506]\n [-0.7914954 ]\n [-1.27723945]\n [-0.9465201 ]\n [-0.82939033]\n [-0.92929513]\n [-1.20489459]\n [-1.24278952]\n [-1.31857937]\n [-1.13599473]\n [-1.23245454]\n [-1.18766963]\n [-1.38403424]\n [-1.39436922]\n [-1.23589953]\n [-1.41503918]\n [-1.16010968]\n [-0.90862517]\n [-1.18422463]\n [-0.82250034]\n [-0.91551516]\n [-1.10154479]\n [-0.67436563]\n [-1.13254973]\n [-1.0464249 ]\n [-1.35647429]\n [-1.24623451]\n [-1.46671408]\n [-1.34958431]\n [-1.23245454]\n [-1.02575494]\n [-1.38747923]\n [-0.9430751 ]\n [-0.70537057]\n [-0.70881556]\n [-0.50900595]\n [-0.76738045]\n [-0.71915054]\n [-0.85006029]\n [-0.75015548]\n [-1.26345948]\n [-0.7398205 ]\n [-0.85350528]\n [-0.91551516]\n [-1.24623451]\n [-0.56757084]\n [-1.03608992]\n [-0.87762023]]\n"
    }
   ],
   "source": [
    "print(np.hsplit(X,7)[0])"
   ]
  },
  {
   "cell_type": "code",
   "execution_count": 4,
   "metadata": {},
   "outputs": [
    {
     "name": "stdout",
     "output_type": "stream",
     "text": "Neural network model:\n input_dim = 1\n hidden_layers = [5]\n output_dim = 3\n eta = 0.1\n n_epochs = 400\n n_folds = 4\n seed_crossval = 1\n seed_weights = 1\n\nCross-validating with 4 folds...\n Fold 1/4: acc_train = 83.54%, acc_valid = 78.85% (n_train = 158, n_valid = 52)\n Fold 2/4: acc_train = 82.91%, acc_valid = 84.62% (n_train = 158, n_valid = 52)\n Fold 3/4: acc_train = 84.81%, acc_valid = 88.46% (n_train = 158, n_valid = 52)\n Fold 4/4: acc_train = 86.08%, acc_valid = 82.69% (n_train = 158, n_valid = 52)\n  -> acc_train_avg = 84.34%, acc_valid_avg = 83.65%\n"
    }
   ],
   "source": [
    "oX = np.hsplit(X,7)[0]\n",
    "N, d = oX.shape\n",
    "\n",
    "print(\"Neural network model:\")\n",
    "print(\" input_dim = {}\".format(d))\n",
    "print(\" hidden_layers = {}\".format(hidden_layers))\n",
    "print(\" output_dim = {}\".format(n_classes))\n",
    "print(\" eta = {}\".format(eta))\n",
    "print(\" n_epochs = {}\".format(n_epochs))\n",
    "print(\" n_folds = {}\".format(n_folds))\n",
    "print(\" seed_crossval = {}\".format(seed_crossval))\n",
    "print(\" seed_weights = {}\\n\".format(seed_weights))\n",
    "\n",
    "# Create cross-validation folds\n",
    "idx_all = np.arange(0, N)\n",
    "idx_folds = utils.crossval_folds(N, n_folds, seed=seed_crossval) # list of list of fold indices\n",
    "\n",
    "# Train/evaluate the model on each fold\n",
    "acc_train, acc_valid = list(), list()\n",
    "print(\"Cross-validating with {} folds...\".format(len(idx_folds)))\n",
    "for i, idx_valid in enumerate(idx_folds):\n",
    "\n",
    "    # Collect training and test data from folds\n",
    "    idx_train = np.delete(idx_all, idx_valid)\n",
    "    X_train, y_train = oX[idx_train], y[idx_train]\n",
    "    X_valid, y_valid = oX[idx_valid], y[idx_valid]\n",
    "\n",
    "    # Build neural network classifier model and train\n",
    "    model = NN(input_dim=d, output_dim=n_classes,\n",
    "                   hidden_layers=hidden_layers, seed=seed_weights)\n",
    "\n",
    "    model.train(X_train, y_train, eta=eta, n_epochs=n_epochs)\n",
    "\n",
    "    # Make predictions for training and test data\n",
    "    ypred_train = model.predict(X_train)\n",
    "    ypred_valid = model.predict(X_valid)\n",
    "\n",
    "    # Compute training/test accuracy score from predicted values\n",
    "    acc_train.append(100*np.sum(y_train==ypred_train)/len(y_train))\n",
    "    acc_valid.append(100*np.sum(y_valid==ypred_valid)/len(y_valid))\n",
    "\n",
    "    # Print cross-validation result\n",
    "    print(\" Fold {}/{}: acc_train = {:.2f}%, acc_valid = {:.2f}% (n_train = {}, n_valid = {})\".format(\n",
    "        i+1, n_folds, acc_train[-1], acc_valid[-1], len(X_train), len(X_valid)))\n",
    "\n",
    "# Print results\n",
    "print(\"  -> acc_train_avg = {:.2f}%, acc_valid_avg = {:.2f}%\".format(\n",
    "    sum(acc_train)/float(len(acc_train)), sum(acc_valid)/float(len(acc_valid))))"
   ]
  },
  {
   "cell_type": "code",
   "execution_count": 12,
   "metadata": {},
   "outputs": [
    {
     "data": {
      "text/plain": "3"
     },
     "execution_count": 12,
     "metadata": {},
     "output_type": "execute_result"
    }
   ],
   "source": [
    "len(model.get_weights()[1])"
   ]
  },
  {
   "cell_type": "code",
   "execution_count": null,
   "metadata": {},
   "outputs": [],
   "source": []
  }
 ]
}
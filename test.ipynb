{
 "nbformat": 4,
 "nbformat_minor": 2,
 "metadata": {
  "language_info": {
   "name": "python",
   "codemirror_mode": {
    "name": "ipython",
    "version": 3
   },
   "version": "3.6.9-final"
  },
  "orig_nbformat": 2,
  "file_extension": ".py",
  "mimetype": "text/x-python",
  "name": "python",
  "npconvert_exporter": "python",
  "pygments_lexer": "ipython3",
  "version": 3,
  "kernelspec": {
   "name": "python36964bit6dbd0b8b1b6641958edb42977e2341f9",
   "display_name": "Python 3.6.9 64-bit"
  }
 },
 "cells": [
  {
   "cell_type": "code",
   "execution_count": 1,
   "metadata": {},
   "outputs": [],
   "source": [
    "import numpy as np\n",
    "from src.NN import NN\n",
    "import src.utils as utils\n",
    "\n",
    "# Settings\n",
    "csv_filename = \"data/seeds_dataset.csv\"\n",
    "hidden_layers = [1,2] # number of nodes in hidden layers i.e. [layer1, layer2, ...]\n",
    "eta = 0.1 # learning rate\n",
    "n_epochs = 50 # number of training epochs\n",
    "n_folds = 4 # number of folds for cross-validation\n",
    "seed_crossval = 1 # seed for cross-validation\n",
    "seed_weights = 1 # "
   ]
  },
  {
   "cell_type": "code",
   "execution_count": 2,
   "metadata": {},
   "outputs": [
    {
     "name": "stdout",
     "output_type": "stream",
     "text": "Reading 'data/seeds_dataset.csv'...\n"
    }
   ],
   "source": [
    "\n",
    "print(\"Reading '{}'...\".format(csv_filename))\n",
    "X, y, n_classes = utils.read_csv(csv_filename, target_name=\"y\", normalize=True)"
   ]
  },
  {
   "cell_type": "code",
   "execution_count": 3,
   "metadata": {},
   "outputs": [
    {
     "name": "stdout",
     "output_type": "stream",
     "text": "[[ 8.76678659e-02]\n [-4.43482563e-02]\n [-2.49320656e-01]\n [-4.05655538e-01]\n [ 3.93389412e-01]\n [-2.18053680e-01]\n [-1.10356317e-01]\n [-3.53543911e-01]\n [ 2.37054530e-01]\n [-1.06882209e-01]\n [-7.94755687e-01]\n [-2.94484067e-01]\n [-3.11854609e-01]\n [ 3.03062592e-01]\n [-1.01709863e+00]\n [ 8.15153945e-04]\n [ 4.10759954e-01]\n [-6.90532433e-01]\n [-7.87807471e-01]\n [-3.11854609e-01]\n [-5.41145769e-01]\n [-6.41894914e-01]\n [ 1.67572361e-01]\n [-3.18802826e-01]\n [-3.70914453e-01]\n [ 1.47115879e-02]\n [ 3.86441195e-01]\n [ 4.14234063e-01]\n [ 7.19955609e-01]\n [-7.21411241e-02]\n [-2.52794765e-01]\n [-5.09878792e-01]\n [-5.23775226e-01]\n [-6.41894914e-01]\n [ 1.71046469e-01]\n [ 3.55562387e-02]\n [-4.19551972e-01]\n [ 1.22408951e-01]\n [-6.13306301e-03]\n [-7.56152326e-02]\n [-5.12964732e-02]\n [-2.00683138e-01]\n [ 2.68321507e-01]\n [-1.79838487e-01]\n [-2.35424223e-01]\n [-1.69416161e-01]\n [ 7.76337090e-03]\n [-1.90260812e-01]\n [-3.04518224e-02]\n [ 1.29357168e-01]\n [-1.00667630e+00]\n [-1.24638979e+00]\n [-1.31239785e+00]\n [-9.19823593e-01]\n [-6.21050264e-01]\n [-7.73911037e-01]\n [-7.39169952e-01]\n [-2.31950114e-01]\n [-3.46595694e-01]\n [-2.21527789e-01]\n [-7.91281579e-01]\n [ 9.11031575e-01]\n [ 6.36577005e-01]\n [ 7.82489561e-01]\n [ 1.42519963e+00]\n [ 6.29628788e-01]\n [ 6.12258246e-01]\n [ 8.03334212e-01]\n [ 1.58500862e+00]\n [ 1.56416397e+00]\n [ 1.13337452e+00]\n [ 1.34529513e+00]\n [ 1.38003622e+00]\n [ 2.14434008e+00]\n [ 2.04011683e+00]\n [ 1.76913637e+00]\n [ 1.30360583e+00]\n [ 1.32097638e+00]\n [ 1.24454599e+00]\n [ 1.16464149e+00]\n [ 6.46999331e-01]\n [ 1.49468180e+00]\n [ 1.38003622e+00]\n [ 1.09863343e+00]\n [ 1.28970940e+00]\n [ 4.87190341e-01]\n [ 1.03609948e+00]\n [ 1.54679343e+00]\n [ 1.44951839e+00]\n [ 1.36961389e+00]\n [ 1.32792459e+00]\n [ 1.33487281e+00]\n [ 9.11031575e-01]\n [ 1.71355063e+00]\n [ 1.23064956e+00]\n [ 1.19590847e+00]\n [ 1.51900056e+00]\n [ 1.43214785e+00]\n [ 1.43562196e+00]\n [ 2.07138381e+00]\n [ 1.40782909e+00]\n [ 1.37308800e+00]\n [ 1.43909606e+00]\n [ 1.34876924e+00]\n [ 1.74481761e+00]\n [ 1.81777389e+00]\n [ 1.08821111e+00]\n [ 4.03811737e-01]\n [ 1.18896025e+00]\n [ 3.41277785e-01]\n [ 1.30013172e+00]\n [ 1.26539064e+00]\n [ 1.03262537e+00]\n [ 1.78998102e+00]\n [ 8.83238707e-01]\n [ 1.14379684e+00]\n [ 1.36613979e+00]\n [ 1.29357168e-01]\n [ 4.00337629e-01]\n [ 1.91891120e-01]\n [ 1.29357168e-01]\n [ 8.17230646e-01]\n [ 1.95365229e-01]\n [ 2.05787554e-01]\n [ 4.24656388e-01]\n [-6.73161891e-01]\n [-5.86309179e-01]\n [-5.79360962e-01]\n [-9.68461111e-01]\n [-1.10742545e+00]\n [-1.31934607e+00]\n [-1.24291568e+00]\n [-8.74660182e-01]\n [-1.26723444e+00]\n [-1.32629428e+00]\n [-1.27418266e+00]\n [-9.99728088e-01]\n [-1.13174421e+00]\n [-1.22207103e+00]\n [-8.57289640e-01]\n [-1.03794328e+00]\n [-1.02752096e+00]\n [-8.53815532e-01]\n [-1.34366483e+00]\n [-1.01015041e+00]\n [-8.92030725e-01]\n [-9.92779871e-01]\n [-1.27070855e+00]\n [-1.30892374e+00]\n [-1.38535413e+00]\n [-1.20122638e+00]\n [-1.29850142e+00]\n [-1.25333801e+00]\n [-1.45136219e+00]\n [-1.46178452e+00]\n [-1.30197553e+00]\n [-1.48262917e+00]\n [-1.22554514e+00]\n [-9.71935220e-01]\n [-1.24986390e+00]\n [-8.85082508e-01]\n [-9.78883437e-01]\n [-1.16648529e+00]\n [-1.29850142e+00]\n [-1.09005491e+00]\n [-1.45483630e+00]\n [-1.00667630e+00]\n [-7.66962820e-01]\n [-7.70436928e-01]\n [-5.68938636e-01]\n [-8.29496772e-01]\n [-7.80859254e-01]\n [-8.01703904e-01]\n [-9.16349484e-01]\n [-9.78883437e-01]\n [-1.31239785e+00]\n [-6.27998481e-01]\n [-1.10047723e+00]\n [-9.40668244e-01]]\n"
    }
   ],
   "source": [
    "print(np.hsplit(X,7)[0])"
   ]
  },
  {
   "cell_type": "code",
   "execution_count": 4,
   "metadata": {},
   "outputs": [
    {
     "data": {
      "text/plain": "7"
     },
     "execution_count": 4,
     "metadata": {},
     "output_type": "execute_result"
    }
   ],
   "source": [
    "m,n=X.shape\n",
    "n"
   ]
  },
  {
   "cell_type": "code",
   "execution_count": 5,
   "metadata": {},
   "outputs": [],
   "source": [
    "def get_splits(X):\n",
    "    m,n=X.shape\n",
    "    splitWeights=list()\n",
    "    splits = np.hsplit(X,n)\n",
    "    # return splits\n",
    "\n",
    "    for o,oX in enumerate(splits):\n",
    "        N, d = oX.shape\n",
    "\n",
    "        print(\"Neural network model:\")\n",
    "        print(\" input_dim = {}\".format(d))\n",
    "        print(\" hidden_layers = {}\".format(hidden_layers))\n",
    "        print(\" output_dim = {}\".format(n_classes))\n",
    "        print(\" eta = {}\".format(eta))\n",
    "        print(\" n_epochs = {}\".format(n_epochs))\n",
    "        print(\" n_folds = {}\".format(n_folds))\n",
    "        print(\" seed_crossval = {}\".format(seed_crossval))\n",
    "        print(\" seed_weights = {}\\n\".format(seed_weights))\n",
    "\n",
    "        # Create cross-validation folds\n",
    "        idx_all = np.arange(0, N)\n",
    "        idx_folds = utils.crossval_folds(N, n_folds, seed=seed_crossval) # list of list of fold indices\n",
    "\n",
    "        # Train/evaluate the model on each fold\n",
    "        acc_train, acc_valid = list(), list()\n",
    "        print(\"Cross-validating with {} folds...\".format(len(idx_folds)))\n",
    "        for i, idx_valid in enumerate(idx_folds):\n",
    "\n",
    "            # Collect training and test data from folds\n",
    "            idx_train = np.delete(idx_all, idx_valid)\n",
    "            X_train, y_train = oX[idx_train], y[idx_train]\n",
    "            X_valid, y_valid = oX[idx_valid], y[idx_valid]\n",
    "\n",
    "            # Build neural network classifier model and train\n",
    "            model = NN(input_dim=d, output_dim=n_classes,\n",
    "                        hidden_layers=hidden_layers, seed=seed_weights)\n",
    "            model.train(X_train, y_train, eta=eta, n_epochs=n_epochs)\n",
    "\n",
    "            # Make predictions for training and test data\n",
    "            ypred_train = model.predict(X_train)\n",
    "            ypred_valid = model.predict(X_valid)\n",
    "\n",
    "            # Compute training/test accuracy score from predicted values\n",
    "            acc_train.append(100*np.sum(y_train==ypred_train)/len(y_train))\n",
    "            acc_valid.append(100*np.sum(y_valid==ypred_valid)/len(y_valid))\n",
    "\n",
    "            # Print cross-validation result\n",
    "            print(\" Fold {}/{}: acc_train = {:.2f}%, acc_valid = {:.2f}% (n_train = {}, n_valid {})\".format(i+1,n_folds, acc_train[-1], acc_valid[-1], len(X_train), len(X_valid)))\n",
    "\n",
    "        # Print results\n",
    "        print(o,\" : \")\n",
    "        print(\"  -> acc_train_avg = {:.2f}%, acc_valid_avg = {:.2f}%\".format(sum(acc_train)/float(len(acc_train)), sum(acc_valid)/float(len(acc_valid))))\n",
    "\n",
    "        splitWeights.append(model.get_weights())\n",
    "    return splitWeights"
   ]
  },
  {
   "cell_type": "code",
   "execution_count": 6,
   "metadata": {},
   "outputs": [
    {
     "name": "stdout",
     "output_type": "stream",
     "text": "Neural network model:\n input_dim = 1\n hidden_layers = [1, 2]\n output_dim = 3\n eta = 0.1\n n_epochs = 50\n n_folds = 4\n seed_crossval = 1\n seed_weights = 1\n\nCross-validating with 4 folds...\n Fold 1/4: acc_train = 34.07%, acc_valid = 18.18% (n_train = 135, n_valid 44)\n Fold 2/4: acc_train = 38.52%, acc_valid = 27.27% (n_train = 135, n_valid 44)\n Fold 3/4: acc_train = 62.96%, acc_valid = 75.00% (n_train = 135, n_valid 44)\n Fold 4/4: acc_train = 39.26%, acc_valid = 25.00% (n_train = 135, n_valid 44)\n0  : \n  -> acc_train_avg = 43.70%, acc_valid_avg = 36.36%\nNeural network model:\n input_dim = 1\n hidden_layers = [1, 2]\n output_dim = 3\n eta = 0.1\n n_epochs = 50\n n_folds = 4\n seed_crossval = 1\n seed_weights = 1\n\nCross-validating with 4 folds...\n Fold 1/4: acc_train = 68.15%, acc_valid = 59.09% (n_train = 135, n_valid 44)\n Fold 2/4: acc_train = 65.93%, acc_valid = 65.91% (n_train = 135, n_valid 44)\n Fold 3/4: acc_train = 62.96%, acc_valid = 75.00% (n_train = 135, n_valid 44)\n Fold 4/4: acc_train = 61.48%, acc_valid = 56.82% (n_train = 135, n_valid 44)\n1  : \n  -> acc_train_avg = 64.63%, acc_valid_avg = 64.20%\nNeural network model:\n input_dim = 1\n hidden_layers = [1, 2]\n output_dim = 3\n eta = 0.1\n n_epochs = 50\n n_folds = 4\n seed_crossval = 1\n seed_weights = 1\n\nCross-validating with 4 folds...\n Fold 1/4: acc_train = 34.81%, acc_valid = 18.18% (n_train = 135, n_valid 44)\n Fold 2/4: acc_train = 38.52%, acc_valid = 27.27% (n_train = 135, n_valid 44)\n Fold 3/4: acc_train = 31.85%, acc_valid = 25.00% (n_train = 135, n_valid 44)\n Fold 4/4: acc_train = 39.26%, acc_valid = 25.00% (n_train = 135, n_valid 44)\n2  : \n  -> acc_train_avg = 36.11%, acc_valid_avg = 23.86%\nNeural network model:\n input_dim = 1\n hidden_layers = [1, 2]\n output_dim = 3\n eta = 0.1\n n_epochs = 50\n n_folds = 4\n seed_crossval = 1\n seed_weights = 1\n\nCross-validating with 4 folds...\n Fold 1/4: acc_train = 66.67%, acc_valid = 59.09% (n_train = 135, n_valid 44)\n Fold 2/4: acc_train = 38.52%, acc_valid = 27.27% (n_train = 135, n_valid 44)\n Fold 3/4: acc_train = 62.96%, acc_valid = 70.45% (n_train = 135, n_valid 44)\n Fold 4/4: acc_train = 39.26%, acc_valid = 25.00% (n_train = 135, n_valid 44)\n3  : \n  -> acc_train_avg = 51.85%, acc_valid_avg = 45.45%\nNeural network model:\n input_dim = 1\n hidden_layers = [1, 2]\n output_dim = 3\n eta = 0.1\n n_epochs = 50\n n_folds = 4\n seed_crossval = 1\n seed_weights = 1\n\nCross-validating with 4 folds...\n Fold 1/4: acc_train = 34.07%, acc_valid = 18.18% (n_train = 135, n_valid 44)\n Fold 2/4: acc_train = 38.52%, acc_valid = 27.27% (n_train = 135, n_valid 44)\n Fold 3/4: acc_train = 62.22%, acc_valid = 75.00% (n_train = 135, n_valid 44)\n Fold 4/4: acc_train = 39.26%, acc_valid = 25.00% (n_train = 135, n_valid 44)\n4  : \n  -> acc_train_avg = 43.52%, acc_valid_avg = 36.36%\nNeural network model:\n input_dim = 1\n hidden_layers = [1, 2]\n output_dim = 3\n eta = 0.1\n n_epochs = 50\n n_folds = 4\n seed_crossval = 1\n seed_weights = 1\n\nCross-validating with 4 folds...\n Fold 1/4: acc_train = 34.07%, acc_valid = 18.18% (n_train = 135, n_valid 44)\n Fold 2/4: acc_train = 41.48%, acc_valid = 31.82% (n_train = 135, n_valid 44)\n Fold 3/4: acc_train = 56.30%, acc_valid = 40.91% (n_train = 135, n_valid 44)\n Fold 4/4: acc_train = 39.26%, acc_valid = 25.00% (n_train = 135, n_valid 44)\n5  : \n  -> acc_train_avg = 42.78%, acc_valid_avg = 28.98%\nNeural network model:\n input_dim = 1\n hidden_layers = [1, 2]\n output_dim = 3\n eta = 0.1\n n_epochs = 50\n n_folds = 4\n seed_crossval = 1\n seed_weights = 1\n\nCross-validating with 4 folds...\n Fold 1/4: acc_train = 65.19%, acc_valid = 56.82% (n_train = 135, n_valid 44)\n Fold 2/4: acc_train = 38.52%, acc_valid = 27.27% (n_train = 135, n_valid 44)\n Fold 3/4: acc_train = 63.70%, acc_valid = 68.18% (n_train = 135, n_valid 44)\n Fold 4/4: acc_train = 48.15%, acc_valid = 38.64% (n_train = 135, n_valid 44)\n6  : \n  -> acc_train_avg = 53.89%, acc_valid_avg = 47.73%\n"
    }
   ],
   "source": [
    "wt = get_splits(X)"
   ]
  },
  {
   "cell_type": "code",
   "execution_count": 7,
   "metadata": {},
   "outputs": [
    {
     "data": {
      "text/plain": "array([[ 2.259065 ],\n       [-1.2133725]], dtype=float32)"
     },
     "execution_count": 7,
     "metadata": {},
     "output_type": "execute_result"
    }
   ],
   "source": [
    "(wt [1][1])"
   ]
  },
  {
   "cell_type": "code",
   "execution_count": 8,
   "metadata": {},
   "outputs": [
    {
     "data": {
      "text/plain": "array([array([[1.5162259]], dtype=float32),\n       array([[0.32234785],\n       [1.4898083 ]], dtype=float32),\n       array([[-1.137341  , -0.4418237 ],\n       [-0.5489515 , -0.08448908],\n       [-0.17905736, -1.0719728 ]], dtype=float32)], dtype=object)"
     },
     "execution_count": 8,
     "metadata": {},
     "output_type": "execute_result"
    }
   ],
   "source": [
    "# len(model.get_weights()[0][])\n",
    "wt[2]"
   ]
  },
  {
   "cell_type": "code",
   "execution_count": 69,
   "metadata": {},
   "outputs": [
    {
     "name": "stdout",
     "output_type": "stream",
     "text": "Neural network model:\n input_dim = 1\n hidden_layers = [1, 2]\n output_dim = 3\n eta = 0.1\n n_epochs = 50\n n_folds = 4\n seed_crossval = 1\n seed_weights = 1\n\nCross-validating with 4 folds...\n Fold 1/4: acc_train = 68.15%, acc_valid = 59.09% (n_train = 135, n_valid 44)\n Fold 2/4: acc_train = 65.93%, acc_valid = 65.91% (n_train = 135, n_valid 44)\n Fold 3/4: acc_train = 31.85%, acc_valid = 25.00% (n_train = 135, n_valid 44)\n Fold 4/4: acc_train = 66.67%, acc_valid = 63.64% (n_train = 135, n_valid 44)\n0  : \n  -> acc_train_avg = 58.15%, acc_valid_avg = 53.41%\nNeural network model:\n input_dim = 1\n hidden_layers = [1, 2]\n output_dim = 3\n eta = 0.1\n n_epochs = 50\n n_folds = 4\n seed_crossval = 1\n seed_weights = 1\n\nCross-validating with 4 folds...\n Fold 1/4: acc_train = 68.15%, acc_valid = 59.09% (n_train = 135, n_valid 44)\n Fold 2/4: acc_train = 38.52%, acc_valid = 27.27% (n_train = 135, n_valid 44)\n Fold 3/4: acc_train = 31.85%, acc_valid = 25.00% (n_train = 135, n_valid 44)\n Fold 4/4: acc_train = 66.67%, acc_valid = 63.64% (n_train = 135, n_valid 44)\n1  : \n  -> acc_train_avg = 51.30%, acc_valid_avg = 43.75%\nNeural network model:\n input_dim = 1\n hidden_layers = [1, 2]\n output_dim = 3\n eta = 0.1\n n_epochs = 50\n n_folds = 4\n seed_crossval = 1\n seed_weights = 1\n\nCross-validating with 4 folds...\n Fold 1/4: acc_train = 45.19%, acc_valid = 27.27% (n_train = 135, n_valid 44)\n Fold 2/4: acc_train = 38.52%, acc_valid = 27.27% (n_train = 135, n_valid 44)\n Fold 3/4: acc_train = 31.85%, acc_valid = 25.00% (n_train = 135, n_valid 44)\n Fold 4/4: acc_train = 39.26%, acc_valid = 25.00% (n_train = 135, n_valid 44)\n2  : \n  -> acc_train_avg = 38.70%, acc_valid_avg = 26.14%\nNeural network model:\n input_dim = 1\n hidden_layers = [1, 2]\n output_dim = 3\n eta = 0.1\n n_epochs = 50\n n_folds = 4\n seed_crossval = 1\n seed_weights = 1\n\nCross-validating with 4 folds...\n Fold 1/4: acc_train = 34.07%, acc_valid = 18.18% (n_train = 135, n_valid 44)\n Fold 2/4: acc_train = 38.52%, acc_valid = 27.27% (n_train = 135, n_valid 44)\n Fold 3/4: acc_train = 62.96%, acc_valid = 70.45% (n_train = 135, n_valid 44)\n Fold 4/4: acc_train = 39.26%, acc_valid = 25.00% (n_train = 135, n_valid 44)\n3  : \n  -> acc_train_avg = 43.70%, acc_valid_avg = 35.23%\nNeural network model:\n input_dim = 1\n hidden_layers = [1, 2]\n output_dim = 3\n eta = 0.1\n n_epochs = 50\n n_folds = 4\n seed_crossval = 1\n seed_weights = 1\n\nCross-validating with 4 folds...\n Fold 1/4: acc_train = 67.41%, acc_valid = 59.09% (n_train = 135, n_valid 44)\n Fold 2/4: acc_train = 38.52%, acc_valid = 27.27% (n_train = 135, n_valid 44)\n Fold 3/4: acc_train = 31.85%, acc_valid = 25.00% (n_train = 135, n_valid 44)\n Fold 4/4: acc_train = 39.26%, acc_valid = 25.00% (n_train = 135, n_valid 44)\n4  : \n  -> acc_train_avg = 44.26%, acc_valid_avg = 34.09%\nNeural network model:\n input_dim = 1\n hidden_layers = [1, 2]\n output_dim = 3\n eta = 0.1\n n_epochs = 50\n n_folds = 4\n seed_crossval = 1\n seed_weights = 1\n\nCross-validating with 4 folds...\n Fold 1/4: acc_train = 34.07%, acc_valid = 18.18% (n_train = 135, n_valid 44)\n Fold 2/4: acc_train = 38.52%, acc_valid = 27.27% (n_train = 135, n_valid 44)\n Fold 3/4: acc_train = 31.85%, acc_valid = 25.00% (n_train = 135, n_valid 44)\n Fold 4/4: acc_train = 53.33%, acc_valid = 56.82% (n_train = 135, n_valid 44)\n5  : \n  -> acc_train_avg = 39.44%, acc_valid_avg = 31.82%\nNeural network model:\n input_dim = 1\n hidden_layers = [1, 2]\n output_dim = 3\n eta = 0.1\n n_epochs = 50\n n_folds = 4\n seed_crossval = 1\n seed_weights = 1\n\nCross-validating with 4 folds...\n Fold 1/4: acc_train = 34.07%, acc_valid = 18.18% (n_train = 135, n_valid 44)\n Fold 2/4: acc_train = 38.52%, acc_valid = 27.27% (n_train = 135, n_valid 44)\n Fold 3/4: acc_train = 31.85%, acc_valid = 25.00% (n_train = 135, n_valid 44)\n Fold 4/4: acc_train = 65.93%, acc_valid = 56.82% (n_train = 135, n_valid 44)\n6  : \n  -> acc_train_avg = 42.59%, acc_valid_avg = 31.82%\n"
    }
   ],
   "source": [
    "w1 = get_splits(X)"
   ]
  },
  {
   "cell_type": "code",
   "execution_count": 87,
   "metadata": {},
   "outputs": [
    {
     "data": {
      "text/plain": "array([array([[2.5309176]], dtype=float32),\n       array([[ 2.259065 ],\n       [-1.2133725]], dtype=float32),\n       array([[-1.173157  , -0.22324422],\n       [ 0.8682776 , -2.1692107 ],\n       [-1.5540261 ,  0.7542186 ]], dtype=float32)], dtype=object)"
     },
     "execution_count": 87,
     "metadata": {},
     "output_type": "execute_result"
    }
   ],
   "source": [
    "wt[1]"
   ]
  },
  {
   "cell_type": "code",
   "execution_count": 90,
   "metadata": {},
   "outputs": [
    {
     "name": "stdout",
     "output_type": "stream",
     "text": "wth []\nhitting new\n[2.0011792 2.5309176 1.5162259 1.863346  1.1245931 1.3149298 2.6542094] 88 [[2.5309176]]\n[2.0011792 2.5309176 1.5162259 1.863346  1.1245931 1.3149298 2.6542094\n 2.5309176] 88 [[1.5162259]]\n[2.0011792 2.5309176 1.5162259 1.863346  1.1245931 1.3149298 2.6542094\n 2.5309176 1.5162259] 88 [[1.863346]]\n[2.0011792 2.5309176 1.5162259 1.863346  1.1245931 1.3149298 2.6542094\n 2.5309176 1.5162259 1.863346 ] 88 [[1.1245931]]\n[2.0011792 2.5309176 1.5162259 1.863346  1.1245931 1.3149298 2.6542094\n 2.5309176 1.5162259 1.863346  1.1245931] 88 [[1.3149298]]\n[2.0011792 2.5309176 1.5162259 1.863346  1.1245931 1.3149298 2.6542094\n 2.5309176 1.5162259 1.863346  1.1245931 1.3149298] 88 [[2.6542094]]\n1\n2\n[array([2.0011792, 2.5309176, 1.5162259, 1.863346 , 1.1245931, 1.3149298,\n       2.6542094, 2.5309176, 1.5162259, 1.863346 , 1.1245931, 1.3149298,\n       2.6542094], dtype=float32)\n array([[-0.01162633],\n       [ 1.0305294 ]], dtype=float32)\n array([[-0.42398414, -0.9957853 ],\n       [-0.7228202 , -0.21326505],\n       [-0.55797356, -0.7236237 ]], dtype=float32)]\n"
    }
   ],
   "source": [
    "new=[]\n",
    "print(\"wth\",new)\n",
    "wx=w1\n",
    "for i,mx in enumerate(wt):\n",
    "    # m2 = wt[i]\n",
    "    if i==0:\n",
    "        print(\"hitting new\")\n",
    "        new = mx\n",
    "    else:\n",
    "        for j,lx in enumerate(mx):\n",
    "            if j==0 and i!=0:\n",
    "                print(new[j],\"88\",lx)\n",
    "                new[j] = np.append(new[j],lx)\n",
    "            else:\n",
    "                new[j] = new[j] + lx\n",
    "\n",
    "for k in range(len(new)):\n",
    "    if not k == 0:\n",
    "        print(k)\n",
    "        new[k] = np.divide(new[k],len(wt))\n",
    "        # print(type(l1))\n",
    "print( new )"
   ]
  },
  {
   "cell_type": "code",
   "execution_count": 91,
   "metadata": {},
   "outputs": [
    {
     "data": {
      "text/plain": "13"
     },
     "execution_count": 91,
     "metadata": {},
     "output_type": "execute_result"
    }
   ],
   "source": [
    "len(new[0])"
   ]
  },
  {
   "cell_type": "code",
   "execution_count": 68,
   "metadata": {},
   "outputs": [
    {
     "data": {
      "text/plain": "array([2.1837533e-05, 2.0011792e+00], dtype=float32)"
     },
     "execution_count": 68,
     "metadata": {},
     "output_type": "execute_result"
    }
   ],
   "source": [
    "np.append(w1[0][0],wt[0][0])"
   ]
  },
  {
   "cell_type": "code",
   "execution_count": null,
   "metadata": {},
   "outputs": [],
   "source": []
  }
 ]
}
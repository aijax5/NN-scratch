{
 "nbformat": 4,
 "nbformat_minor": 2,
 "metadata": {
  "language_info": {
   "name": "python",
   "codemirror_mode": {
    "name": "ipython",
    "version": 3
   },
   "version": "3.6.8-final"
  },
  "orig_nbformat": 2,
  "file_extension": ".py",
  "mimetype": "text/x-python",
  "name": "python",
  "npconvert_exporter": "python",
  "pygments_lexer": "ipython3",
  "version": 3,
  "kernelspec": {
   "name": "python36864bitmlvenvvirtualenv7d88894919b14083a2990028bc2685ff",
   "display_name": "Python 3.6.8 64-bit ('ml_venv': virtualenv)"
  }
 },
 "cells": [
  {
   "cell_type": "code",
   "execution_count": 1,
   "metadata": {},
   "outputs": [],
   "source": [
    "import numpy as np\n",
    "from src.NN import NN\n",
    "import src.utils as utils\n",
    "\n",
    "# Settings\n",
    "csv_filename = \"data/seeds_dataset.csv\"\n",
    "hidden_layers = [1,2] # number of nodes in hidden layers i.e. [layer1, layer2, ...]\n",
    "eta = 0.1 # learning rate\n",
    "n_epochs = 50 # number of training epochs\n",
    "n_folds = 4 # number of folds for cross-validation\n",
    "seed_crossval = 1 # seed for cross-validation\n",
    "seed_weights = 1 # "
   ]
  },
  {
   "cell_type": "code",
   "execution_count": 2,
   "metadata": {},
   "outputs": [
    {
     "name": "stdout",
     "output_type": "stream",
     "text": "Reading 'data/seeds_dataset.csv'...\n"
    }
   ],
   "source": [
    "\n",
    "print(\"Reading '{}'...\".format(csv_filename))\n",
    "X, y, n_classes = utils.read_csv(csv_filename, target_name=\"y\", normalize=True)"
   ]
  },
  {
   "cell_type": "code",
   "execution_count": 3,
   "metadata": {},
   "outputs": [],
   "source": [
    "# m,n=X.shape\n",
    "# n"
   ]
  },
  {
   "cell_type": "code",
   "execution_count": 4,
   "metadata": {},
   "outputs": [],
   "source": [
    "def get_splits(X):\n",
    "    datasets,features=X.shape\n",
    "\n",
    "    splitWeights=list()\n",
    "    splits = np.hsplit(X,features)\n",
    "    # return splits\n",
    "\n",
    "    for o,oX in enumerate(splits):\n",
    "        N, d = oX.shape\n",
    "\n",
    "        print(\"Neural network model:\")\n",
    "        print(\" input_dim = {}\".format(d))\n",
    "        print(\" hidden_layers = {}\".format(hidden_layers))\n",
    "        print(\" output_dim = {}\".format(n_classes))\n",
    "        print(\" eta = {}\".format(eta))\n",
    "        print(\" n_epochs = {}\".format(n_epochs))\n",
    "        print(\" n_folds = {}\".format(n_folds))\n",
    "        print(\" seed_crossval = {}\".format(seed_crossval))\n",
    "        print(\" seed_weights = {}\\n\".format(seed_weights))\n",
    "\n",
    "        # Create cross-validation folds\n",
    "        idx_all = np.arange(0, N)\n",
    "        idx_folds = utils.crossval_folds(N, n_folds, seed=seed_crossval) # list of list of fold indices\n",
    "\n",
    "        # Train/evaluate the model on each fold\n",
    "        acc_train, acc_valid = list(), list()\n",
    "        print(\"Cross-validating with {} folds...\".format(len(idx_folds)))\n",
    "        for i, idx_valid in enumerate(idx_folds):\n",
    "#  seed=seed_weights\n",
    "            # Collect training and test data from folds\n",
    "            idx_train = np.delete(idx_all, idx_valid)\n",
    "            X_train, y_train = oX[idx_train], y[idx_train]\n",
    "            X_valid, y_valid = oX[idx_valid], y[idx_valid]\n",
    "\n",
    "            # Build neural network classifier model and train\n",
    "            model = NN(input_dim=d, output_dim=n_classes,\n",
    "                        hidden_layers=hidden_layers)\n",
    "            model.train(X_train, y_train, eta=eta, n_epochs=n_epochs)\n",
    "\n",
    "            # Make predictions for training and test data\n",
    "            ypred_train = model.predict(X_train)\n",
    "            ypred_valid = model.predict(X_valid)\n",
    "\n",
    "            # Compute training/test accuracy score from predicted values\n",
    "            acc_train.append(100*np.sum(y_train==ypred_train)/len(y_train))\n",
    "            acc_valid.append(100*np.sum(y_valid==ypred_valid)/len(y_valid))\n",
    "\n",
    "            # Print cross-validation result\n",
    "            print(\" Fold {}/{}: acc_train = {:.2f}%, acc_valid = {:.2f}% (n_train = {}, n_valid {})\".format(i+1,n_folds, acc_train[-1], acc_valid[-1], len(X_train), len(X_valid)))\n",
    "\n",
    "        # Print results\n",
    "        print(o,\" : \")\n",
    "        print(\"  -> acc_train_avg = {:.2f}%, acc_valid_avg = {:.2f}%\".format(sum(acc_train)/float(len(acc_train)), sum(acc_valid)/float(len(acc_valid))))\n",
    "\n",
    "        splitWeights.append(model.get_weights())\n",
    "        \n",
    "    \n",
    "    return splitWeights"
   ]
  },
  {
   "cell_type": "code",
   "execution_count": 5,
   "metadata": {},
   "outputs": [
    {
     "name": "stdout",
     "output_type": "stream",
     "text": "Neural network model:\n input_dim = 1\n hidden_layers = [1, 2]\n output_dim = 3\n eta = 0.1\n n_epochs = 50\n n_folds = 4\n seed_crossval = 1\n seed_weights = 1\n\nCross-validating with 4 folds...\n Fold 1/4: acc_train = 34.07%, acc_valid = 18.18% (n_train = 135, n_valid 44)\n Fold 2/4: acc_train = 63.70%, acc_valid = 61.36% (n_train = 135, n_valid 44)\n Fold 3/4: acc_train = 31.85%, acc_valid = 25.00% (n_train = 135, n_valid 44)\n Fold 4/4: acc_train = 66.67%, acc_valid = 63.64% (n_train = 135, n_valid 44)\n0  : \n  -> acc_train_avg = 49.07%, acc_valid_avg = 42.05%\nnode :  {'weights': [2.861153897068316], 'output': 0.03775706438625264, 'delta': 0.015682367877301824}\nnode :  {'weights': [-1.795628665988729], 'output': 0.48305707259456254, 'delta': -0.0806534903721679}\nnode :  {'weights': [2.3262910882462693], 'output': 0.5219443743792052, 'delta': 0.050972685417964785}\nnode :  {'weights': [-0.15799387955905655, -1.1991673177189213], 'output': 0.3313204979790248, 'delta': 0.07248851789731967}\nnode :  {'weights': [-3.1423932301190263, 1.1300065419745338], 'output': 0.28329923231771276, 'delta': 0.061315693400191065}\nnode :  {'weights': [0.8354972271827382, -1.5268946566898578], 'output': 0.4029084151627708, 'delta': -0.1447626103427829}\nNeural network model:\n input_dim = 1\n hidden_layers = [1, 2]\n output_dim = 3\n eta = 0.1\n n_epochs = 50\n n_folds = 4\n seed_crossval = 1\n seed_weights = 1\n\nCross-validating with 4 folds...\n Fold 1/4: acc_train = 34.07%, acc_valid = 18.18% (n_train = 135, n_valid 44)\n Fold 2/4: acc_train = 38.52%, acc_valid = 27.27% (n_train = 135, n_valid 44)\n Fold 3/4: acc_train = 31.85%, acc_valid = 25.00% (n_train = 135, n_valid 44)\n Fold 4/4: acc_train = 39.26%, acc_valid = 25.00% (n_train = 135, n_valid 44)\n1  : \n  -> acc_train_avg = 35.93%, acc_valid_avg = 23.86%\nnode :  {'weights': [1.8868815935243572], 'output': 0.16545642034710328, 'delta': 0.0062496081192220925}\nnode :  {'weights': [1.8970507032535806], 'output': 0.5778318508713954, 'delta': 0.034329902171042634}\nnode :  {'weights': [0.45546301210970497], 'output': 0.5188309089787737, 'delta': -0.0235683006523265}\nnode :  {'weights': [-1.0577685062519802, -0.4498409465804565], 'output': 0.30056607395137785, 'delta': 0.06470205846932213}\nnode :  {'weights': [0.3213097818349985, -0.7337032907939481], 'output': 0.4514026731989515, 'delta': 0.11209839499422256}\nnode :  {'weights': [-1.1458135249859767, -0.10125919702252832], 'output': 0.3285779222486573, 'delta': -0.1481409190276885}\nNeural network model:\n input_dim = 1\n hidden_layers = [1, 2]\n output_dim = 3\n eta = 0.1\n n_epochs = 50\n n_folds = 4\n seed_crossval = 1\n seed_weights = 1\n\nCross-validating with 4 folds...\n Fold 1/4: acc_train = 34.07%, acc_valid = 18.18% (n_train = 135, n_valid 44)\n Fold 2/4: acc_train = 38.52%, acc_valid = 27.27% (n_train = 135, n_valid 44)\n Fold 3/4: acc_train = 31.85%, acc_valid = 25.00% (n_train = 135, n_valid 44)\n Fold 4/4: acc_train = 39.26%, acc_valid = 25.00% (n_train = 135, n_valid 44)\n2  : \n  -> acc_train_avg = 35.93%, acc_valid_avg = 23.86%\nnode :  {'weights': [1.0208915413338562], 'output': 0.054467493516832236, 'delta': 0.0028116666486725918}\nnode :  {'weights': [0.9533740301857676], 'output': 0.5129790570741886, 'delta': 0.00878889221175528}\nnode :  {'weights': [0.8258825670126648], 'output': 0.5112440423427409, 'delta': 0.0035707806212773446}\nnode :  {'weights': [-0.49178783253870995, -1.0239251269660243], 'output': 0.31523604513888964, 'delta': 0.05928557807729323}\nnode :  {'weights': [-0.385638924424049, -0.2252583467615787], 'output': 0.42238589216664474, 'delta': 0.09943564939289323}\nnode :  {'weights': [-0.6934718196544787, -0.6500401264066643], 'output': 0.3344635144067139, 'delta': -0.1474000505277121}\nNeural network model:\n input_dim = 1\n hidden_layers = [1, 2]\n output_dim = 3\n eta = 0.1\n n_epochs = 50\n n_folds = 4\n seed_crossval = 1\n seed_weights = 1\n\nCross-validating with 4 folds...\n Fold 1/4: acc_train = 66.67%, acc_valid = 59.09% (n_train = 135, n_valid 44)\n Fold 2/4: acc_train = 62.22%, acc_valid = 65.91% (n_train = 135, n_valid 44)\n Fold 3/4: acc_train = 31.85%, acc_valid = 25.00% (n_train = 135, n_valid 44)\n Fold 4/4: acc_train = 64.44%, acc_valid = 63.64% (n_train = 135, n_valid 44)\n3  : \n  -> acc_train_avg = 56.30%, acc_valid_avg = 53.41%\nnode :  {'weights': [3.7241925687751216], 'output': 0.15185363963825493, 'delta': 0.010653319250507732}\nnode :  {'weights': [-2.634451968992101], 'output': 0.4013000578337367, 'delta': -0.09170983934885193}\nnode :  {'weights': [2.561337200489918], 'output': 0.5960295166723636, 'delta': 0.03995192937062482}\nnode :  {'weights': [0.4987700735485176, -1.4474347905762721], 'output': 0.340165361475298, 'delta': 0.08794814894456178}\nnode :  {'weights': [-4.767792675530604, 1.3684794949809473], 'output': 0.25017835192801535, 'delta': 0.024551415026337942}\nnode :  {'weights': [2.4618518733128436, -2.1051787062671465], 'output': 0.43369105378922584, 'delta': -0.11998698003296332}\nNeural network model:\n input_dim = 1\n hidden_layers = [1, 2]\n output_dim = 3\n eta = 0.1\n n_epochs = 50\n n_folds = 4\n seed_crossval = 1\n seed_weights = 1\n\nCross-validating with 4 folds...\n Fold 1/4: acc_train = 67.41%, acc_valid = 59.09% (n_train = 135, n_valid 44)\n Fold 2/4: acc_train = 38.52%, acc_valid = 27.27% (n_train = 135, n_valid 44)\n Fold 3/4: acc_train = 31.85%, acc_valid = 25.00% (n_train = 135, n_valid 44)\n Fold 4/4: acc_train = 65.93%, acc_valid = 63.64% (n_train = 135, n_valid 44)\n4  : \n  -> acc_train_avg = 50.93%, acc_valid_avg = 43.75%\nnode :  {'weights': [3.7780538720172014], 'output': 0.002173730272295519, 'delta': 0.016243375681491246}\nnode :  {'weights': [2.6704407951361624], 'output': 0.5014512004242322, 'delta': 0.0417031961156068}\nnode :  {'weights': [-2.747445476569762], 'output': 0.4985069530867603, 'delta': -0.10616953640530527}\nnode :  {'weights': [-1.247235117475935, 0.07801439487058924], 'output': 0.35742986056489623, 'delta': 0.07971414918438023}\nnode :  {'weights': [1.2503713114994386, -4.855714223128134], 'output': 0.14263105071596707, 'delta': 0.0225685388354861}\nnode :  {'weights': [-2.1959069969479, 2.9912458005468143], 'output': 0.5962867027024771, 'delta': -0.10818417192768041}\nNeural network model:\n input_dim = 1\n hidden_layers = [1, 2]\n output_dim = 3\n eta = 0.1\n n_epochs = 50\n n_folds = 4\n seed_crossval = 1\n seed_weights = 1\n\nCross-validating with 4 folds...\n Fold 1/4: acc_train = 34.07%, acc_valid = 18.18% (n_train = 135, n_valid 44)\n Fold 2/4: acc_train = 38.52%, acc_valid = 27.27% (n_train = 135, n_valid 44)\n Fold 3/4: acc_train = 31.85%, acc_valid = 25.00% (n_train = 135, n_valid 44)\n Fold 4/4: acc_train = 39.26%, acc_valid = 25.00% (n_train = 135, n_valid 44)\n5  : \n  -> acc_train_avg = 35.93%, acc_valid_avg = 23.86%\nnode :  {'weights': [1.3844409569515108], 'output': 0.6745486964951614, 'delta': -0.008409786074746557}\nnode :  {'weights': [1.429800095684486], 'output': 0.7240158385931011, 'delta': -0.020900103638752606}\nnode :  {'weights': [-0.8352963366372338], 'output': 0.3627500222900922, 'delta': 0.05340429944898368}\nnode :  {'weights': [-1.5391295420706717, 0.2650945136264471], 'output': 0.2653798971092301, 'delta': 0.046545246789596484}\nnode :  {'weights': [-0.529469176428509, -0.2146740781483954], 'output': 0.38669713450535037, 'delta': 0.09068280017268557}\nnode :  {'weights': [0.020590864955284498, -1.6915441962480566], 'output': 0.35464126511829575, 'delta': -0.1470859467189927}\nNeural network model:\n input_dim = 1\n hidden_layers = [1, 2]\n output_dim = 3\n eta = 0.1\n n_epochs = 50\n n_folds = 4\n seed_crossval = 1\n seed_weights = 1\n\nCross-validating with 4 folds...\n Fold 1/4: acc_train = 65.93%, acc_valid = 56.82% (n_train = 135, n_valid 44)\n Fold 2/4: acc_train = 38.52%, acc_valid = 27.27% (n_train = 135, n_valid 44)\n Fold 3/4: acc_train = 31.85%, acc_valid = 25.00% (n_train = 135, n_valid 44)\n Fold 4/4: acc_train = 57.04%, acc_valid = 47.73% (n_train = 135, n_valid 44)\n6  : \n  -> acc_train_avg = 48.33%, acc_valid_avg = 39.20%\nnode :  {'weights': [3.111210190876561], 'output': 0.32139660788156577, 'delta': 0.009307428658062483}\nnode :  {'weights': [-1.6171805530865773], 'output': 0.3729092103516845, 'delta': -0.03204435577086534}\nnode :  {'weights': [2.396755274837823], 'output': 0.6835877361502928, 'delta': 0.02578399155762339}\nnode :  {'weights': [0.9306479454642097, -1.7544710459101494], 'output': 0.2989531805546886, 'delta': 0.08599471250915677}\nnode :  {'weights': [-2.777549467313276, 1.0535900102709852], 'output': 0.4217600016859191, 'delta': 0.0735210536958537}\nnode :  {'weights': [0.04248869436705705, -1.1877655843294768], 'output': 0.31086090659419996, 'delta': -0.14803653823646326}\n"
    }
   ],
   "source": [
    "wt = get_splits(X)"
   ]
  },
  {
   "cell_type": "code",
   "execution_count": 6,
   "metadata": {},
   "outputs": [
    {
     "data": {
      "text/plain": "[-0.15799387955905655, -1.1991673177189213]"
     },
     "execution_count": 6,
     "metadata": {},
     "output_type": "execute_result"
    }
   ],
   "source": [
    "wt[0][2][0].tolist()\n",
    "# len(new[1])"
   ]
  },
  {
   "cell_type": "code",
   "execution_count": 7,
   "metadata": {},
   "outputs": [],
   "source": [
    "# len(model.get_weights()[0][])\n",
    "datasets,features=X.shape"
   ]
  },
  {
   "cell_type": "code",
   "execution_count": 22,
   "metadata": {},
   "outputs": [
    {
     "name": "stdout",
     "output_type": "stream",
     "text": "wth []\nhitting new\n[[-1.79562867]\n [ 2.32629109]]\n1 *******************\n2\n3\n1 *******************\n2\n3\n1 *******************\n2\n3\n1 *******************\n2\n3\n1 *******************\n2\n3\n1 *******************\n2\n3\n1\n2\n[[array([2.8611539 , 1.88688159, 1.02089154, 3.72419257, 3.77805387,\n       1.38444096, 3.11121019])], array([[0.12905778],\n       [0.71185533]]), array([[-0.43778527, -0.79024719],\n       [-1.4330232 , -0.35389627],\n       [-0.09639481, -0.61020524]])]\n"
    }
   ],
   "source": [
    "new=[]\n",
    "import copy\n",
    "print(\"wth\",new)\n",
    "rep = copy.deepcopy(wt)\n",
    "for i,mx in enumerate(rep):\n",
    "    # m2 = wt[i]\n",
    "    if i==0:\n",
    "        print(\"hitting new\")\n",
    "        new = mx\n",
    "        print(new[1])\n",
    "    else:\n",
    "        for j,lx in enumerate(mx):\n",
    "            if j==0 and i!=0:\n",
    "                # print(new[j],\"88\",lx)\n",
    "                \n",
    "                new[j] = [np.append(new[j],lx)]\n",
    "                print(len(new[j]),\"*******************\")\n",
    "            else:\n",
    "                new[j] = np.add(new[j],lx)\n",
    "                print(len(new[j]))\n",
    "\n",
    "for k in range(len(new)):\n",
    "    if not k == 0:\n",
    "        print(k)\n",
    "        new[k] = np.divide(new[k],len(wt))\n",
    "        # print(type(l1))\n",
    "print( new )"
   ]
  },
  {
   "cell_type": "code",
   "execution_count": 23,
   "metadata": {},
   "outputs": [
    {
     "name": "stdout",
     "output_type": "stream",
     "text": "[2.861153897068316, 1.8868815935243572, 1.0208915413338562, 3.7241925687751216, 3.7780538720172014, 1.3844409569515108, 3.111210190876561]\n[0.12905777659894133]\n[0.7118553327841978]\n[-0.4377852655548038, -0.7902471884649697]\n[-1.4330231972115752, -0.3538962702293699]\n[-0.09639481168149029, -0.6102052380595595]\n"
    }
   ],
   "source": [
    "new_nn =  NN(input_dim=features, output_dim=n_classes,\n",
    "                        hidden_layers=hidden_layers,AvgWeights=new)"
   ]
  },
  {
   "cell_type": "code",
   "execution_count": 24,
   "metadata": {},
   "outputs": [
    {
     "name": "stdout",
     "output_type": "stream",
     "text": "node :  {'weights': [2.861153897068316, 1.8868815935243572, 1.0208915413338562, 3.7241925687751216, 3.7780538720172014, 1.3844409569515108, 3.111210190876561], 'output': None, 'delta': None}\nnode :  {'weights': [0.12905777659894133], 'output': None, 'delta': None}\nnode :  {'weights': [0.7118553327841978], 'output': None, 'delta': None}\nnode :  {'weights': [-0.4377852655548038, -0.7902471884649697], 'output': None, 'delta': None}\nnode :  {'weights': [-1.4330231972115752, -0.3538962702293699], 'output': None, 'delta': None}\nnode :  {'weights': [-0.09639481168149029, -0.6102052380595595], 'output': None, 'delta': None}\n"
    },
    {
     "data": {
      "text/plain": "[array([[2.8611539 , 1.88688159, 1.02089154, 3.72419257, 3.77805387,\n         1.38444096, 3.11121019]]),\n array([[0.12905778],\n        [0.71185533]]),\n array([[-0.43778527, -0.79024719],\n        [-1.4330232 , -0.35389627],\n        [-0.09639481, -0.61020524]])]"
     },
     "execution_count": 24,
     "metadata": {},
     "output_type": "execute_result"
    }
   ],
   "source": [
    "new_nn.get_weights()"
   ]
  },
  {
   "cell_type": "code",
   "execution_count": null,
   "metadata": {},
   "outputs": [],
   "source": [
    "nw = [[[2.162206105066135,\n",
    "   2.511103755489059,\n",
    "   1.0914315598966,\n",
    "   1.299168673146784,\n",
    "   1.9712199964449098,\n",
    "   -0.6693635968466675,\n",
    "   1.7271965968317686]],\n",
    " [[[0.6449008887629116], [1.2760450946757522]],\n",
    "  [[0.6449008887629116], [1.2760450946757522]]],\n",
    " [[[-0.7172583226205111, -0.862754050663147],\n",
    "   [-0.635781787018038, 0.01427466090778091],\n",
    "   [-0.5019770862022626, -0.7865638296664071]],\n",
    "  [[-0.7172583226205111, -0.862754050663147],\n",
    "   [-0.635781787018038, 0.01427466090778091],\n",
    "   [-0.5019770862022626, -0.7865638296664071]],\n",
    "  [[-0.7172583226205111, -0.862754050663147],\n",
    "   [-0.635781787018038, 0.01427466090778091],\n",
    "   [-0.5019770862022626, -0.7865638296664071]]]]"
   ]
  },
  {
   "cell_type": "code",
   "execution_count": null,
   "metadata": {},
   "outputs": [],
   "source": [
    "def dp(a, b):\n",
    "    # print(a,b,\"***^^ \\n\")\n",
    "    return sum([float(a_ )* float(b_) for (a_, b_) in zip(a, b)])\n",
    "y=[2.162206105066135,\n",
    "   2.511103755489059,\n",
    "   1.0914315598966,\n",
    "   1.299168673146784,\n",
    "   1.9712199964449098,\n",
    "   -0.6693635968466675,\n",
    "   1.7271965968317686]\n",
    "\n",
    "# new[1][1]"
   ]
  },
  {
   "cell_type": "code",
   "execution_count": null,
   "metadata": {},
   "outputs": [],
   "source": [
    "dp(new[1][0],y)"
   ]
  },
  {
   "cell_type": "code",
   "execution_count": 26,
   "metadata": {},
   "outputs": [
    {
     "name": "stdout",
     "output_type": "stream",
     "text": "Reading 'data/seeds_dataset.csv'...\nNeural network model:\n input_dim = 7\n hidden_layers = [1, 2]\n output_dim = 3\n eta = 0.1\n n_epochs = 50\n n_folds = 4\n seed_crossval = 1\n seed_weights = 1\n\nCross-validating with 4 folds...\n Fold 1/4: acc_train = 68.89%, acc_valid = 59.09% (n_train = 135, n_valid 44)\n Fold 2/4: acc_train = 72.59%, acc_valid = 65.91% (n_train = 135, n_valid 44)\n Fold 3/4: acc_train = 69.63%, acc_valid = 72.73% (n_train = 135, n_valid 44)\n Fold 4/4: acc_train = 71.11%, acc_valid = 72.73% (n_train = 135, n_valid 44)\n  -> acc_train_avg = 70.56%, acc_valid_avg = 67.61%\n"
    }
   ],
   "source": [
    "# for oX in enumerate(splits):\n",
    "print(\"Reading '{}'...\".format(csv_filename))\n",
    "X, y, n_classes = utils.read_csv(csv_filename, target_name=\"y\", normalize=True)\n",
    "N, d = X.shape\n",
    "\n",
    "print(\"Neural network model:\")\n",
    "print(\" input_dim = {}\".format(d))\n",
    "print(\" hidden_layers = {}\".format(hidden_layers))\n",
    "print(\" output_dim = {}\".format(n_classes))\n",
    "print(\" eta = {}\".format(eta))\n",
    "print(\" n_epochs = {}\".format(n_epochs))\n",
    "print(\" n_folds = {}\".format(n_folds))\n",
    "print(\" seed_crossval = {}\".format(seed_crossval))\n",
    "print(\" seed_weights = {}\\n\".format(seed_weights))\n",
    "\n",
    "# Create cross-validation folds\n",
    "idx_all = np.arange(0, N)\n",
    "idx_folds = utils.crossval_folds(N, n_folds, seed=seed_crossval) # list of list of fold indices\n",
    "\n",
    "# Train/evaluate the model on each fold\n",
    "acc_train, acc_valid = list(), list()\n",
    "print(\"Cross-validating with {} folds...\".format(len(idx_folds)))\n",
    "for i, idx_valid in enumerate(idx_folds):\n",
    "#  seed=seed_weights\n",
    "    # Collect training and test data from folds\n",
    "    idx_train = np.delete(idx_all, idx_valid)\n",
    "    X_train, y_train = X[idx_train], y[idx_train]\n",
    "    X_valid, y_valid = X[idx_valid], y[idx_valid]\n",
    "\n",
    "    # Build neural network classifier model and train\n",
    "    # model = NN(input_dim=d, output_dim=n_classes,\n",
    "    #             hidden_layers=hidden_layers)\n",
    "    new_nn.train(X_train, y_train, eta=eta, n_epochs=n_epochs)\n",
    "\n",
    "    # Make predictions for training and test data\n",
    "    ypred_train = new_nn.predict(X_train)\n",
    "    ypred_valid = new_nn.predict(X_valid)\n",
    "\n",
    "    # Compute training/test accuracy score from predicted values\n",
    "    acc_train.append(100*np.sum(y_train==ypred_train)/len(y_train))\n",
    "    acc_valid.append(100*np.sum(y_valid==ypred_valid)/len(y_valid))\n",
    "\n",
    "    # Print cross-validation result\n",
    "    print(\" Fold {}/{}: acc_train = {:.2f}%, acc_valid = {:.2f}% (n_train = {}, n_valid {})\".format(i+1,n_folds, acc_train[-1], acc_valid[-1], len(X_train), len(X_valid)))\n",
    "\n",
    "# Print results\n",
    "# print(o,\" : \")\n",
    "print(\"  -> acc_train_avg = {:.2f}%, acc_valid_avg = {:.2f}%\".format(sum(acc_train)/float(len(acc_train)), sum(acc_valid)/float(len(acc_valid))))"
   ]
  },
  {
   "cell_type": "code",
   "execution_count": 27,
   "metadata": {},
   "outputs": [
    {
     "name": "stdout",
     "output_type": "stream",
     "text": "node :  {'weights': [2.5872943666380515, 0.8850010414563316, -0.13311296759739202, -0.8379477684719221, 3.491352445580385, 0.8108488588020185, 7.10226748707677], 'output': 5.163950494216946e-05, 'delta': 2.706566185149175e-05}\nnode :  {'weights': [-2.9725823930843545], 'output': 0.4999616243292807, 'delta': -0.07196931755730174}\nnode :  {'weights': [2.8712321295483423], 'output': 0.5000370672513681, 'delta': 0.06262496641362386}\nnode :  {'weights': [2.599976089232433, -2.628929291267122], 'output': 0.4963316098166286, 'delta': 0.1244655031745124}\nnode :  {'weights': [-10.570907995730925, 3.1864178713599958], 'output': 0.02432271284028594, 'delta': 0.000577430305135766}\nnode :  {'weights': [5.2234668320644495, -4.944500874215855], 'output': 0.5347188494053676, 'delta': -0.11617378483881227}\n"
    },
    {
     "data": {
      "text/plain": "[array([[ 2.58729437,  0.88500104, -0.13311297, -0.83794777,  3.49135245,\n          0.81084886,  7.10226749]]),\n array([[-2.97258239],\n        [ 2.87123213]]),\n array([[  2.59997609,  -2.62892929],\n        [-10.570908  ,   3.18641787],\n        [  5.22346683,  -4.94450087]])]"
     },
     "execution_count": 27,
     "metadata": {},
     "output_type": "execute_result"
    }
   ],
   "source": [
    "new_nn.get_weights()"
   ]
  },
  {
   "cell_type": "code",
   "execution_count": null,
   "metadata": {},
   "outputs": [],
   "source": [
    "new=[]\n",
    "import copy\n",
    "print(\"wth\",new)\n",
    "rep = copy.deepcopy(wt)\n",
    "for i,mx in enumerate(rep):\n",
    "    # m2 = wt[i]\n",
    "    if i==0:\n",
    "        print(\"hitting new\")\n",
    "        new = mx\n",
    "        print(new[1])\n",
    "    else:\n",
    "        for j,lx in enumerate(mx):\n",
    "            if j==0 and i!=0:\n",
    "                # print(new[j],\"88\",lx)\n",
    "                \n",
    "                new[j] = np.append(new[j],lx)\n",
    "                print(len(new[j]),\"*******************\")\n",
    "            else:\n",
    "                new[j] = np.add(new[j],lx)\n",
    "                print(len(new[j]))\n",
    "\n",
    "for k in range(len(new)):\n",
    "    if not k == 0:\n",
    "        print(k)\n",
    "        new[k] = np.divide(new[k],len(wt))\n",
    "        # print(type(l1))\n",
    "print( new )"
   ]
  },
  {
   "cell_type": "code",
   "execution_count": null,
   "metadata": {},
   "outputs": [],
   "source": [
    "rp=0\n",
    "for fp in range(len(wt)):\n",
    "    print(wt[fp][1])\n",
    "    rp += wt[fp][1][0][0]\n",
    "    print(rp)\n",
    "print(rp/7)"
   ]
  },
  {
   "cell_type": "code",
   "execution_count": null,
   "metadata": {},
   "outputs": [],
   "source": [
    "np.asarray([ 3.9273942 ,  1.9839786 ,  1.7497002 ,  3.1951442 ,  1.8707918 ,\n",
    "       -0.18531519,  1.9123502 ], dtype=\"float32\")"
   ]
  },
  {
   "cell_type": "code",
   "execution_count": null,
   "metadata": {},
   "outputs": [],
   "source": [
    "print(type(wt[1][1]))"
   ]
  },
  {
   "cell_type": "code",
   "execution_count": null,
   "metadata": {},
   "outputs": [],
   "source": [
    "np.asarray([ 3.9273942 ,  1.9839786 ,  1.7497002 ,  3.1951442 ,  1.8707918 ,\n",
    "       -0.18531519,  1.9123502 ], dtype=\"float32\").tolist()"
   ]
  },
  {
   "cell_type": "code",
   "execution_count": null,
   "metadata": {},
   "outputs": [],
   "source": []
  }
 ]
}
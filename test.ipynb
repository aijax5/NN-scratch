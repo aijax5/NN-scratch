{
 "nbformat": 4,
 "nbformat_minor": 2,
 "metadata": {
  "language_info": {
   "name": "python",
   "codemirror_mode": {
    "name": "ipython",
    "version": 3
   },
   "version": "3.6.8-final"
  },
  "orig_nbformat": 2,
  "file_extension": ".py",
  "mimetype": "text/x-python",
  "name": "python",
  "npconvert_exporter": "python",
  "pygments_lexer": "ipython3",
  "version": 3,
  "kernelspec": {
   "name": "python36864bitmlvenvvirtualenv7d88894919b14083a2990028bc2685ff",
   "display_name": "Python 3.6.8 64-bit ('ml_venv': virtualenv)"
  }
 },
 "cells": [
  {
   "cell_type": "code",
   "execution_count": 1,
   "metadata": {},
   "outputs": [],
   "source": [
    "import numpy as np\n",
    "from src.NN import NN\n",
    "import src.utils as utils\n",
    "\n",
    "# Settings\n",
    "csv_filename = \"data/seeds_dataset.csv\"\n",
    "hidden_layers = [1,2] # number of nodes in hidden layers i.e. [layer1, layer2, ...]\n",
    "eta = 0.1 # learning rate\n",
    "n_epochs = 50 # number of training epochs\n",
    "n_folds = 4 # number of folds for cross-validation\n",
    "seed_crossval = 1 # seed for cross-validation\n",
    "seed_weights = 1 # "
   ]
  },
  {
   "cell_type": "code",
   "execution_count": 2,
   "metadata": {},
   "outputs": [
    {
     "name": "stdout",
     "output_type": "stream",
     "text": "Reading 'data/seeds_dataset.csv'...\n"
    }
   ],
   "source": [
    "\n",
    "print(\"Reading '{}'...\".format(csv_filename))\n",
    "X, y, n_classes = utils.read_csv(csv_filename, target_name=\"y\", normalize=True)"
   ]
  },
  {
   "cell_type": "code",
   "execution_count": 3,
   "metadata": {},
   "outputs": [
    {
     "name": "stdout",
     "output_type": "stream",
     "text": "[[ 8.76678659e-02]\n [-4.43482563e-02]\n [-2.49320656e-01]\n [-4.05655538e-01]\n [ 3.93389412e-01]\n [-2.18053680e-01]\n [-1.10356317e-01]\n [-3.53543911e-01]\n [ 2.37054530e-01]\n [-1.06882209e-01]\n [-7.94755687e-01]\n [-2.94484067e-01]\n [-3.11854609e-01]\n [ 3.03062592e-01]\n [-1.01709863e+00]\n [ 8.15153945e-04]\n [ 4.10759954e-01]\n [-6.90532433e-01]\n [-7.87807471e-01]\n [-3.11854609e-01]\n [-5.41145769e-01]\n [-6.41894914e-01]\n [ 1.67572361e-01]\n [-3.18802826e-01]\n [-3.70914453e-01]\n [ 1.47115879e-02]\n [ 3.86441195e-01]\n [ 4.14234063e-01]\n [ 7.19955609e-01]\n [-7.21411241e-02]\n [-2.52794765e-01]\n [-5.09878792e-01]\n [-5.23775226e-01]\n [-6.41894914e-01]\n [ 1.71046469e-01]\n [ 3.55562387e-02]\n [-4.19551972e-01]\n [ 1.22408951e-01]\n [-6.13306301e-03]\n [-7.56152326e-02]\n [-5.12964732e-02]\n [-2.00683138e-01]\n [ 2.68321507e-01]\n [-1.79838487e-01]\n [-2.35424223e-01]\n [-1.69416161e-01]\n [ 7.76337090e-03]\n [-1.90260812e-01]\n [-3.04518224e-02]\n [ 1.29357168e-01]\n [-1.00667630e+00]\n [-1.24638979e+00]\n [-1.31239785e+00]\n [-9.19823593e-01]\n [-6.21050264e-01]\n [-7.73911037e-01]\n [-7.39169952e-01]\n [-2.31950114e-01]\n [-3.46595694e-01]\n [-2.21527789e-01]\n [-7.91281579e-01]\n [ 9.11031575e-01]\n [ 6.36577005e-01]\n [ 7.82489561e-01]\n [ 1.42519963e+00]\n [ 6.29628788e-01]\n [ 6.12258246e-01]\n [ 8.03334212e-01]\n [ 1.58500862e+00]\n [ 1.56416397e+00]\n [ 1.13337452e+00]\n [ 1.34529513e+00]\n [ 1.38003622e+00]\n [ 2.14434008e+00]\n [ 2.04011683e+00]\n [ 1.76913637e+00]\n [ 1.30360583e+00]\n [ 1.32097638e+00]\n [ 1.24454599e+00]\n [ 1.16464149e+00]\n [ 6.46999331e-01]\n [ 1.49468180e+00]\n [ 1.38003622e+00]\n [ 1.09863343e+00]\n [ 1.28970940e+00]\n [ 4.87190341e-01]\n [ 1.03609948e+00]\n [ 1.54679343e+00]\n [ 1.44951839e+00]\n [ 1.36961389e+00]\n [ 1.32792459e+00]\n [ 1.33487281e+00]\n [ 9.11031575e-01]\n [ 1.71355063e+00]\n [ 1.23064956e+00]\n [ 1.19590847e+00]\n [ 1.51900056e+00]\n [ 1.43214785e+00]\n [ 1.43562196e+00]\n [ 2.07138381e+00]\n [ 1.40782909e+00]\n [ 1.37308800e+00]\n [ 1.43909606e+00]\n [ 1.34876924e+00]\n [ 1.74481761e+00]\n [ 1.81777389e+00]\n [ 1.08821111e+00]\n [ 4.03811737e-01]\n [ 1.18896025e+00]\n [ 3.41277785e-01]\n [ 1.30013172e+00]\n [ 1.26539064e+00]\n [ 1.03262537e+00]\n [ 1.78998102e+00]\n [ 8.83238707e-01]\n [ 1.14379684e+00]\n [ 1.36613979e+00]\n [ 1.29357168e-01]\n [ 4.00337629e-01]\n [ 1.91891120e-01]\n [ 1.29357168e-01]\n [ 8.17230646e-01]\n [ 1.95365229e-01]\n [ 2.05787554e-01]\n [ 4.24656388e-01]\n [-6.73161891e-01]\n [-5.86309179e-01]\n [-5.79360962e-01]\n [-9.68461111e-01]\n [-1.10742545e+00]\n [-1.31934607e+00]\n [-1.24291568e+00]\n [-8.74660182e-01]\n [-1.26723444e+00]\n [-1.32629428e+00]\n [-1.27418266e+00]\n [-9.99728088e-01]\n [-1.13174421e+00]\n [-1.22207103e+00]\n [-8.57289640e-01]\n [-1.03794328e+00]\n [-1.02752096e+00]\n [-8.53815532e-01]\n [-1.34366483e+00]\n [-1.01015041e+00]\n [-8.92030725e-01]\n [-9.92779871e-01]\n [-1.27070855e+00]\n [-1.30892374e+00]\n [-1.38535413e+00]\n [-1.20122638e+00]\n [-1.29850142e+00]\n [-1.25333801e+00]\n [-1.45136219e+00]\n [-1.46178452e+00]\n [-1.30197553e+00]\n [-1.48262917e+00]\n [-1.22554514e+00]\n [-9.71935220e-01]\n [-1.24986390e+00]\n [-8.85082508e-01]\n [-9.78883437e-01]\n [-1.16648529e+00]\n [-1.29850142e+00]\n [-1.09005491e+00]\n [-1.45483630e+00]\n [-1.00667630e+00]\n [-7.66962820e-01]\n [-7.70436928e-01]\n [-5.68938636e-01]\n [-8.29496772e-01]\n [-7.80859254e-01]\n [-8.01703904e-01]\n [-9.16349484e-01]\n [-9.78883437e-01]\n [-1.31239785e+00]\n [-6.27998481e-01]\n [-1.10047723e+00]\n [-9.40668244e-01]]\n"
    }
   ],
   "source": [
    "print(np.hsplit(X,7)[0])"
   ]
  },
  {
   "cell_type": "code",
   "execution_count": 4,
   "metadata": {},
   "outputs": [
    {
     "data": {
      "text/plain": "7"
     },
     "execution_count": 4,
     "metadata": {},
     "output_type": "execute_result"
    }
   ],
   "source": [
    "m,n=X.shape\n",
    "n"
   ]
  },
  {
   "cell_type": "code",
   "execution_count": 5,
   "metadata": {},
   "outputs": [],
   "source": [
    "def get_splits(X):\n",
    "    datasets,features=X.shape\n",
    "\n",
    "    splitWeights=list()\n",
    "    splits = np.hsplit(X,features)\n",
    "    # return splits\n",
    "\n",
    "    for o,oX in enumerate(splits):\n",
    "        N, d = oX.shape\n",
    "\n",
    "        print(\"Neural network model:\")\n",
    "        print(\" input_dim = {}\".format(d))\n",
    "        print(\" hidden_layers = {}\".format(hidden_layers))\n",
    "        print(\" output_dim = {}\".format(n_classes))\n",
    "        print(\" eta = {}\".format(eta))\n",
    "        print(\" n_epochs = {}\".format(n_epochs))\n",
    "        print(\" n_folds = {}\".format(n_folds))\n",
    "        print(\" seed_crossval = {}\".format(seed_crossval))\n",
    "        print(\" seed_weights = {}\\n\".format(seed_weights))\n",
    "\n",
    "        # Create cross-validation folds\n",
    "        idx_all = np.arange(0, N)\n",
    "        idx_folds = utils.crossval_folds(N, n_folds, seed=seed_crossval) # list of list of fold indices\n",
    "\n",
    "        # Train/evaluate the model on each fold\n",
    "        acc_train, acc_valid = list(), list()\n",
    "        print(\"Cross-validating with {} folds...\".format(len(idx_folds)))\n",
    "        for i, idx_valid in enumerate(idx_folds):\n",
    "#  seed=seed_weights\n",
    "            # Collect training and test data from folds\n",
    "            idx_train = np.delete(idx_all, idx_valid)\n",
    "            X_train, y_train = oX[idx_train], y[idx_train]\n",
    "            X_valid, y_valid = oX[idx_valid], y[idx_valid]\n",
    "\n",
    "            # Build neural network classifier model and train\n",
    "            model = NN(input_dim=d, output_dim=n_classes,\n",
    "                        hidden_layers=hidden_layers)\n",
    "            model.train(X_train, y_train, eta=eta, n_epochs=n_epochs)\n",
    "\n",
    "            # Make predictions for training and test data\n",
    "            ypred_train = model.predict(X_train)\n",
    "            ypred_valid = model.predict(X_valid)\n",
    "\n",
    "            # Compute training/test accuracy score from predicted values\n",
    "            acc_train.append(100*np.sum(y_train==ypred_train)/len(y_train))\n",
    "            acc_valid.append(100*np.sum(y_valid==ypred_valid)/len(y_valid))\n",
    "\n",
    "            # Print cross-validation result\n",
    "            print(\" Fold {}/{}: acc_train = {:.2f}%, acc_valid = {:.2f}% (n_train = {}, n_valid {})\".format(i+1,n_folds, acc_train[-1], acc_valid[-1], len(X_train), len(X_valid)))\n",
    "\n",
    "        # Print results\n",
    "        print(o,\" : \")\n",
    "        print(\"  -> acc_train_avg = {:.2f}%, acc_valid_avg = {:.2f}%\".format(sum(acc_train)/float(len(acc_train)), sum(acc_valid)/float(len(acc_valid))))\n",
    "\n",
    "        splitWeights.append(model.get_weights())\n",
    "        \n",
    "    \n",
    "    return splitWeights"
   ]
  },
  {
   "cell_type": "code",
   "execution_count": 6,
   "metadata": {},
   "outputs": [
    {
     "name": "stdout",
     "output_type": "stream",
     "text": "Neural network model:\n input_dim = 1\n hidden_layers = [1, 2]\n output_dim = 3\n eta = 0.1\n n_epochs = 50\n n_folds = 4\n seed_crossval = 1\n seed_weights = 1\n\nCross-validating with 4 folds...\n Fold 1/4: acc_train = 64.44%, acc_valid = 59.09% (n_train = 135, n_valid 44)\n Fold 2/4: acc_train = 65.93%, acc_valid = 65.91% (n_train = 135, n_valid 44)\n Fold 3/4: acc_train = 31.85%, acc_valid = 25.00% (n_train = 135, n_valid 44)\n Fold 4/4: acc_train = 39.26%, acc_valid = 25.00% (n_train = 135, n_valid 44)\n0  : \n  -> acc_train_avg = 50.37%, acc_valid_avg = 43.75%\nnode :  {'weights': [1.9820452218529776], 'output': 0.0959403929471556, 'delta': 0.005213876990259619}\nnode :  {'weights': [1.7839999728499583], 'output': 0.5426852602533472, 'delta': 0.03277900101672253}\nnode :  {'weights': [0.7176104564935332], 'output': 0.5172051617588694, 'delta': -0.018999853866824287}\nnode :  {'weights': [-1.0231884641706612, -0.5001446139611827], 'output': 0.30705012166336837, 'delta': 0.06414050079289797}\nnode :  {'weights': [0.16128826447894246, -0.4839291927334197], 'output': 0.4593991136242809, 'delta': 0.11452764869306535}\nnode :  {'weights': [-1.2014665887484404, -0.06260989657558852], 'output': 0.3352798942836025, 'delta': -0.14812701376264237}\nNeural network model:\n input_dim = 1\n hidden_layers = [1, 2]\n output_dim = 3\n eta = 0.1\n n_epochs = 50\n n_folds = 4\n seed_crossval = 1\n seed_weights = 1\n\nCross-validating with 4 folds...\n Fold 1/4: acc_train = 34.07%, acc_valid = 18.18% (n_train = 135, n_valid 44)\n Fold 2/4: acc_train = 65.93%, acc_valid = 65.91% (n_train = 135, n_valid 44)\n Fold 3/4: acc_train = 62.96%, acc_valid = 75.00% (n_train = 135, n_valid 44)\n Fold 4/4: acc_train = 39.26%, acc_valid = 25.00% (n_train = 135, n_valid 44)\n1  : \n  -> acc_train_avg = 50.56%, acc_valid_avg = 46.02%\nnode :  {'weights': [1.9611015001814716], 'output': 0.1568536129370175, 'delta': 0.004208837124648442}\nnode :  {'weights': [1.8206642662766026], 'output': 0.5709131543091248, 'delta': 0.0247179709793072}\nnode :  {'weights': [0.6886832226593076], 'output': 0.5269793831468477, 'delta': -0.00913055291972276}\nnode :  {'weights': [-1.0351317331205552, -0.4872080090488834], 'output': 0.2999115893471143, 'delta': 0.06448067066567746}\nnode :  {'weights': [0.3760517424514089, -0.733655843763409], 'output': 0.45712341098692627, 'delta': 0.1138130958429314}\nnode :  {'weights': [-0.8234067667665261, -0.5152689835992179], 'output': 0.32264783551867215, 'delta': -0.1480610078691813}\nNeural network model:\n input_dim = 1\n hidden_layers = [1, 2]\n output_dim = 3\n eta = 0.1\n n_epochs = 50\n n_folds = 4\n seed_crossval = 1\n seed_weights = 1\n\nCross-validating with 4 folds...\n Fold 1/4: acc_train = 34.07%, acc_valid = 18.18% (n_train = 135, n_valid 44)\n Fold 2/4: acc_train = 38.52%, acc_valid = 27.27% (n_train = 135, n_valid 44)\n Fold 3/4: acc_train = 53.33%, acc_valid = 50.00% (n_train = 135, n_valid 44)\n Fold 4/4: acc_train = 39.26%, acc_valid = 25.00% (n_train = 135, n_valid 44)\n2  : \n  -> acc_train_avg = 41.30%, acc_valid_avg = 30.11%\nnode :  {'weights': [1.6701133066713387], 'output': 0.009292631158458403, 'delta': 0.02282244327554543}\nnode :  {'weights': [1.6531845128770661], 'output': 0.5038405329471759, 'delta': 0.042130121794183184}\nnode :  {'weights': [-0.42341311366899476], 'output': 0.499016345795771, 'delta': -0.055031900254864694}\nnode :  {'weights': [-0.5707678599719914, -1.10714145276117], 'output': 0.3015226392644921, 'delta': 0.06062849126414647}\nnode :  {'weights': [0.13608387139213204, -1.0169404796048], 'output': 0.3920018329100503, 'delta': 0.09914654127126128}\nnode :  {'weights': [-1.4179909084492515, 0.3766169496044979], 'output': 0.3713328107986709, 'delta': -0.14769747292168692}\nNeural network model:\n input_dim = 1\n hidden_layers = [1, 2]\n output_dim = 3\n eta = 0.1\n n_epochs = 50\n n_folds = 4\n seed_crossval = 1\n seed_weights = 1\n\nCross-validating with 4 folds...\n Fold 1/4: acc_train = 66.67%, acc_valid = 59.09% (n_train = 135, n_valid 44)\n Fold 2/4: acc_train = 63.70%, acc_valid = 65.91% (n_train = 135, n_valid 44)\n Fold 3/4: acc_train = 31.85%, acc_valid = 25.00% (n_train = 135, n_valid 44)\n Fold 4/4: acc_train = 64.44%, acc_valid = 63.64% (n_train = 135, n_valid 44)\n3  : \n  -> acc_train_avg = 56.67%, acc_valid_avg = 53.41%\nnode :  {'weights': [3.5439519566673376], 'output': 0.16288919895066561, 'delta': 0.01180497334795409}\nnode :  {'weights': [-2.529236238238605], 'output': 0.39843618756340893, 'delta': -0.08848337617647624}\nnode :  {'weights': [2.5016608956467277], 'output': 0.6004867245995597, 'delta': 0.04117980861243856}\nnode :  {'weights': [0.39964598792659844, -1.4154698073007677], 'output': 0.3338690540149678, 'delta': 0.08516523216004025}\nnode :  {'weights': [-4.545191256368779, 1.3470243572283591], 'output': 0.26852904475197364, 'delta': 0.02889748258174092}\nnode :  {'weights': [2.021484802637637, -1.9185950303212846], 'output': 0.4141930454732, 'delta': -0.12791950742179808}\nNeural network model:\n input_dim = 1\n hidden_layers = [1, 2]\n output_dim = 3\n eta = 0.1\n n_epochs = 50\n n_folds = 4\n seed_crossval = 1\n seed_weights = 1\n\nCross-validating with 4 folds...\n Fold 1/4: acc_train = 34.07%, acc_valid = 18.18% (n_train = 135, n_valid 44)\n Fold 2/4: acc_train = 54.07%, acc_valid = 47.73% (n_train = 135, n_valid 44)\n Fold 3/4: acc_train = 31.85%, acc_valid = 25.00% (n_train = 135, n_valid 44)\n Fold 4/4: acc_train = 39.26%, acc_valid = 25.00% (n_train = 135, n_valid 44)\n4  : \n  -> acc_train_avg = 39.81%, acc_valid_avg = 28.98%\nnode :  {'weights': [2.058783755811678], 'output': 0.03422536017433334, 'delta': 0.007882555703685486}\nnode :  {'weights': [0.40174446701023525], 'output': 0.5034374081146462, 'delta': -0.027261518376390285}\nnode :  {'weights': [1.9877448607528796], 'output': 0.5170012642712247, 'delta': 0.035926438336286705}\nnode :  {'weights': [-0.2982141691473346, -1.1468376709844377], 'output': 0.3223378383405393, 'delta': 0.06558527581131085}\nnode :  {'weights': [-0.7350981913634295, 0.30269927256868817], 'output': 0.4468070470770539, 'delta': 0.11157593025603443}\nnode :  {'weights': [0.06457985590981419, -1.257644666458701], 'output': 0.35030655925953674, 'delta': -0.1481458756824827}\nNeural network model:\n input_dim = 1\n hidden_layers = [1, 2]\n output_dim = 3\n eta = 0.1\n n_epochs = 50\n n_folds = 4\n seed_crossval = 1\n seed_weights = 1\n\nCross-validating with 4 folds...\n Fold 1/4: acc_train = 34.07%, acc_valid = 18.18% (n_train = 135, n_valid 44)\n Fold 2/4: acc_train = 38.52%, acc_valid = 27.27% (n_train = 135, n_valid 44)\n Fold 3/4: acc_train = 54.07%, acc_valid = 38.64% (n_train = 135, n_valid 44)\n Fold 4/4: acc_train = 39.26%, acc_valid = 25.00% (n_train = 135, n_valid 44)\n5  : \n  -> acc_train_avg = 41.48%, acc_valid_avg = 27.27%\nnode :  {'weights': [0.6399876711795246], 'output': 0.5834416379785003, 'delta': -0.004866756644575366}\nnode :  {'weights': [-0.5913458219887041], 'output': 0.41459160218934316, 'delta': 0.03502530544256172}\nnode :  {'weights': [0.18835851088466854], 'output': 0.527446432142409, 'delta': -0.01513056077183882}\nnode :  {'weights': [-0.6954816040101247, -1.026791590499052], 'output': 0.3036623257259224, 'delta': 0.06484278234060495}\nnode :  {'weights': [-0.0009574957336390241, -0.8180668317538553], 'output': 0.39367668250997706, 'delta': 0.09393873003763796}\nnode :  {'weights': [-1.2886997793141377, -0.5477991818787377], 'output': 0.3050808190802468, 'delta': -0.14747570055741552}\nNeural network model:\n input_dim = 1\n hidden_layers = [1, 2]\n output_dim = 3\n eta = 0.1\n n_epochs = 50\n n_folds = 4\n seed_crossval = 1\n seed_weights = 1\n\nCross-validating with 4 folds...\n Fold 1/4: acc_train = 65.93%, acc_valid = 56.82% (n_train = 135, n_valid 44)\n Fold 2/4: acc_train = 63.70%, acc_valid = 54.55% (n_train = 135, n_valid 44)\n Fold 3/4: acc_train = 31.85%, acc_valid = 25.00% (n_train = 135, n_valid 44)\n Fold 4/4: acc_train = 65.19%, acc_valid = 61.36% (n_train = 135, n_valid 44)\n6  : \n  -> acc_train_avg = 56.67%, acc_valid_avg = 49.43%\nnode :  {'weights': [-2.9734380919749976], 'output': 0.6713430941255824, 'delta': -0.0036689747341474817}\nnode :  {'weights': [-2.6358815684924166], 'output': 0.1455944573551861, 'delta': 0.010940661183823369}\nnode :  {'weights': [2.07412789503947], 'output': 0.8009833130009586, 'delta': -0.005981798448532781}\nnode :  {'weights': [-2.5267136129057195, -0.16971200899219516], 'output': 0.3766452573446832, 'delta': 0.0998991556592531}\nnode :  {'weights': [3.094499257969885, -1.7816250753258513], 'output': 0.27358482154673314, 'delta': 0.03716923108527967}\nnode :  {'weights': [-1.9506408175066179, -0.2022366314888416], 'output': 0.39031444470005894, 'delta': -0.14232219005593072}\n"
    }
   ],
   "source": [
    "wt = get_splits(X)"
   ]
  },
  {
   "cell_type": "code",
   "execution_count": 7,
   "metadata": {},
   "outputs": [
    {
     "data": {
      "text/plain": "[[1.8206642662766026], [0.6886832226593076]]"
     },
     "execution_count": 7,
     "metadata": {},
     "output_type": "execute_result"
    }
   ],
   "source": [
    "(wt [1][1])len(new[1])"
   ]
  },
  {
   "cell_type": "code",
   "execution_count": 29,
   "metadata": {},
   "outputs": [],
   "source": [
    "# len(model.get_weights()[0][])\n",
    "datasets,features=X.shape"
   ]
  },
  {
   "cell_type": "code",
   "execution_count": 30,
   "metadata": {},
   "outputs": [],
   "source": [
    "new_nn =  NN(input_dim=features, output_dim=n_classes,\n",
    "                        hidden_layers=hidden_layers,AvgWeights=new)"
   ]
  },
  {
   "cell_type": "code",
   "execution_count": 31,
   "metadata": {},
   "outputs": [
    {
     "name": "stdout",
     "output_type": "stream",
     "text": "node :  {'weights': [1.9820452218529776, 1.9611015001814716, 1.6701133066713387, 3.5439519566673376, 2.058783755811678, 0.6399876711795246, -2.9734380919749976], 'output': None, 'delta': None}\nnode :  {'weights': [[-0.01383862995798056], [1.1049675325439419]], 'output': None, 'delta': None}\nnode :  {'weights': [[-0.01383862995798056], [1.1049675325439419]], 'output': None, 'delta': None}\nnode :  {'weights': [[-0.8214073507713984, -0.8361864505068126], [-0.21618911531049692, -0.454927684769184], [-0.6565914574625031, -0.5896482058168392]], 'output': None, 'delta': None}\nnode :  {'weights': [[-0.8214073507713984, -0.8361864505068126], [-0.21618911531049692, -0.454927684769184], [-0.6565914574625031, -0.5896482058168392]], 'output': None, 'delta': None}\nnode :  {'weights': [[-0.8214073507713984, -0.8361864505068126], [-0.21618911531049692, -0.454927684769184], [-0.6565914574625031, -0.5896482058168392]], 'output': None, 'delta': None}\n"
    },
    {
     "data": {
      "text/plain": "[[[1.9820452218529776,\n   1.9611015001814716,\n   1.6701133066713387,\n   3.5439519566673376,\n   2.058783755811678,\n   0.6399876711795246,\n   -2.9734380919749976]],\n [[[-0.01383862995798056], [1.1049675325439419]],\n  [[-0.01383862995798056], [1.1049675325439419]]],\n [[[-0.8214073507713984, -0.8361864505068126],\n   [-0.21618911531049692, -0.454927684769184],\n   [-0.6565914574625031, -0.5896482058168392]],\n  [[-0.8214073507713984, -0.8361864505068126],\n   [-0.21618911531049692, -0.454927684769184],\n   [-0.6565914574625031, -0.5896482058168392]],\n  [[-0.8214073507713984, -0.8361864505068126],\n   [-0.21618911531049692, -0.454927684769184],\n   [-0.6565914574625031, -0.5896482058168392]]]]"
     },
     "execution_count": 31,
     "metadata": {},
     "output_type": "execute_result"
    }
   ],
   "source": [
    "new_nn.get_weights()"
   ]
  },
  {
   "cell_type": "code",
   "execution_count": 32,
   "metadata": {},
   "outputs": [
    {
     "name": "stdout",
     "output_type": "stream",
     "text": "Neural network model:\n input_dim = 7\n hidden_layers = [1, 2]\n output_dim = 3\n eta = 0.1\n n_epochs = 50\n n_folds = 4\n seed_crossval = 1\n seed_weights = 1\n\nCross-validating with 4 folds...\n"
    },
    {
     "ename": "TypeError",
     "evalue": "can't multiply sequence by non-int of type 'float'",
     "output_type": "error",
     "traceback": [
      "\u001b[0;31m---------------------------------------------------------------------------\u001b[0m",
      "\u001b[0;31mTypeError\u001b[0m                                 Traceback (most recent call last)",
      "\u001b[0;32m<ipython-input-32-d8e22ca35856>\u001b[0m in \u001b[0;36m<module>\u001b[0;34m\u001b[0m\n\u001b[1;32m     29\u001b[0m     \u001b[0;31m# model = NN(input_dim=d, output_dim=n_classes,\u001b[0m\u001b[0;34m\u001b[0m\u001b[0;34m\u001b[0m\u001b[0;34m\u001b[0m\u001b[0m\n\u001b[1;32m     30\u001b[0m     \u001b[0;31m#             hidden_layers=hidden_layers)\u001b[0m\u001b[0;34m\u001b[0m\u001b[0;34m\u001b[0m\u001b[0;34m\u001b[0m\u001b[0m\n\u001b[0;32m---> 31\u001b[0;31m     \u001b[0mnew_nn\u001b[0m\u001b[0;34m.\u001b[0m\u001b[0mtrain\u001b[0m\u001b[0;34m(\u001b[0m\u001b[0mX_train\u001b[0m\u001b[0;34m,\u001b[0m \u001b[0my_train\u001b[0m\u001b[0;34m,\u001b[0m \u001b[0meta\u001b[0m\u001b[0;34m=\u001b[0m\u001b[0meta\u001b[0m\u001b[0;34m,\u001b[0m \u001b[0mn_epochs\u001b[0m\u001b[0;34m=\u001b[0m\u001b[0mn_epochs\u001b[0m\u001b[0;34m)\u001b[0m\u001b[0;34m\u001b[0m\u001b[0;34m\u001b[0m\u001b[0m\n\u001b[0m\u001b[1;32m     32\u001b[0m \u001b[0;34m\u001b[0m\u001b[0m\n\u001b[1;32m     33\u001b[0m     \u001b[0;31m# Make predictions for training and test data\u001b[0m\u001b[0;34m\u001b[0m\u001b[0;34m\u001b[0m\u001b[0;34m\u001b[0m\u001b[0m\n",
      "\u001b[0;32m~/Documents/vsplit-nn/NN-scratch/src/NN.py\u001b[0m in \u001b[0;36mtrain\u001b[0;34m(self, X, y, eta, n_epochs)\u001b[0m\n\u001b[1;32m     23\u001b[0m         \u001b[0;32mfor\u001b[0m \u001b[0m_\u001b[0m \u001b[0;32min\u001b[0m \u001b[0mrange\u001b[0m\u001b[0;34m(\u001b[0m\u001b[0mn_epochs\u001b[0m\u001b[0;34m)\u001b[0m\u001b[0;34m:\u001b[0m\u001b[0;34m\u001b[0m\u001b[0;34m\u001b[0m\u001b[0m\n\u001b[1;32m     24\u001b[0m             \u001b[0;32mfor\u001b[0m \u001b[0;34m(\u001b[0m\u001b[0mx_\u001b[0m\u001b[0;34m,\u001b[0m \u001b[0my_\u001b[0m\u001b[0;34m)\u001b[0m \u001b[0;32min\u001b[0m \u001b[0mzip\u001b[0m\u001b[0;34m(\u001b[0m\u001b[0mX\u001b[0m\u001b[0;34m,\u001b[0m \u001b[0my\u001b[0m\u001b[0;34m)\u001b[0m\u001b[0;34m:\u001b[0m\u001b[0;34m\u001b[0m\u001b[0;34m\u001b[0m\u001b[0m\n\u001b[0;32m---> 25\u001b[0;31m                 \u001b[0mself\u001b[0m\u001b[0;34m.\u001b[0m\u001b[0m_forward_pass\u001b[0m\u001b[0;34m(\u001b[0m\u001b[0mx_\u001b[0m\u001b[0;34m)\u001b[0m \u001b[0;31m# forward pass (update node[\"output\"])\u001b[0m\u001b[0;34m\u001b[0m\u001b[0;34m\u001b[0m\u001b[0m\n\u001b[0m\u001b[1;32m     26\u001b[0m                 \u001b[0myhot_\u001b[0m \u001b[0;34m=\u001b[0m \u001b[0mself\u001b[0m\u001b[0;34m.\u001b[0m\u001b[0m_one_hot_encoding\u001b[0m\u001b[0;34m(\u001b[0m\u001b[0my_\u001b[0m\u001b[0;34m,\u001b[0m \u001b[0mself\u001b[0m\u001b[0;34m.\u001b[0m\u001b[0moutput_dim\u001b[0m\u001b[0;34m)\u001b[0m \u001b[0;31m# one-hot target\u001b[0m\u001b[0;34m\u001b[0m\u001b[0;34m\u001b[0m\u001b[0m\n\u001b[1;32m     27\u001b[0m                 \u001b[0mself\u001b[0m\u001b[0;34m.\u001b[0m\u001b[0m_backward_pass\u001b[0m\u001b[0;34m(\u001b[0m\u001b[0myhot_\u001b[0m\u001b[0;34m)\u001b[0m \u001b[0;31m# backward pass error (update node[\"delta\"])\u001b[0m\u001b[0;34m\u001b[0m\u001b[0;34m\u001b[0m\u001b[0m\n",
      "\u001b[0;32m~/Documents/vsplit-nn/NN-scratch/src/NN.py\u001b[0m in \u001b[0;36m_forward_pass\u001b[0;34m(self, x)\u001b[0m\n\u001b[1;32m    105\u001b[0m             \u001b[0mx_out\u001b[0m \u001b[0;34m=\u001b[0m \u001b[0;34m[\u001b[0m\u001b[0;34m]\u001b[0m\u001b[0;34m\u001b[0m\u001b[0;34m\u001b[0m\u001b[0m\n\u001b[1;32m    106\u001b[0m             \u001b[0;32mfor\u001b[0m \u001b[0mnode\u001b[0m \u001b[0;32min\u001b[0m \u001b[0mlayer\u001b[0m\u001b[0;34m:\u001b[0m\u001b[0;34m\u001b[0m\u001b[0;34m\u001b[0m\u001b[0m\n\u001b[0;32m--> 107\u001b[0;31m                 \u001b[0mnode\u001b[0m\u001b[0;34m[\u001b[0m\u001b[0;34m'output'\u001b[0m\u001b[0;34m]\u001b[0m \u001b[0;34m=\u001b[0m \u001b[0mtransfer\u001b[0m\u001b[0;34m(\u001b[0m\u001b[0mself\u001b[0m\u001b[0;34m.\u001b[0m\u001b[0m_dotprod\u001b[0m\u001b[0;34m(\u001b[0m\u001b[0mnode\u001b[0m\u001b[0;34m[\u001b[0m\u001b[0;34m'weights'\u001b[0m\u001b[0;34m]\u001b[0m\u001b[0;34m,\u001b[0m \u001b[0mx_in\u001b[0m\u001b[0;34m)\u001b[0m\u001b[0;34m)\u001b[0m\u001b[0;34m\u001b[0m\u001b[0;34m\u001b[0m\u001b[0m\n\u001b[0m\u001b[1;32m    108\u001b[0m                 \u001b[0mx_out\u001b[0m\u001b[0;34m.\u001b[0m\u001b[0mappend\u001b[0m\u001b[0;34m(\u001b[0m\u001b[0mnode\u001b[0m\u001b[0;34m[\u001b[0m\u001b[0;34m'output'\u001b[0m\u001b[0;34m]\u001b[0m\u001b[0;34m)\u001b[0m\u001b[0;34m\u001b[0m\u001b[0;34m\u001b[0m\u001b[0m\n\u001b[1;32m    109\u001b[0m             \u001b[0mx_in\u001b[0m \u001b[0;34m=\u001b[0m \u001b[0mx_out\u001b[0m \u001b[0;31m# set output as next input\u001b[0m\u001b[0;34m\u001b[0m\u001b[0;34m\u001b[0m\u001b[0m\n",
      "\u001b[0;32m~/Documents/vsplit-nn/NN-scratch/src/NN.py\u001b[0m in \u001b[0;36m_dotprod\u001b[0;34m(self, a, b)\u001b[0m\n\u001b[1;32m    144\u001b[0m     \u001b[0;31m# Dot product\u001b[0m\u001b[0;34m\u001b[0m\u001b[0;34m\u001b[0m\u001b[0;34m\u001b[0m\u001b[0m\n\u001b[1;32m    145\u001b[0m     \u001b[0;32mdef\u001b[0m \u001b[0m_dotprod\u001b[0m\u001b[0;34m(\u001b[0m\u001b[0mself\u001b[0m\u001b[0;34m,\u001b[0m \u001b[0ma\u001b[0m\u001b[0;34m,\u001b[0m \u001b[0mb\u001b[0m\u001b[0;34m)\u001b[0m\u001b[0;34m:\u001b[0m\u001b[0;34m\u001b[0m\u001b[0;34m\u001b[0m\u001b[0m\n\u001b[0;32m--> 146\u001b[0;31m         \u001b[0;32mreturn\u001b[0m \u001b[0msum\u001b[0m\u001b[0;34m(\u001b[0m\u001b[0;34m[\u001b[0m\u001b[0ma_\u001b[0m \u001b[0;34m*\u001b[0m \u001b[0mb_\u001b[0m \u001b[0;32mfor\u001b[0m \u001b[0;34m(\u001b[0m\u001b[0ma_\u001b[0m\u001b[0;34m,\u001b[0m \u001b[0mb_\u001b[0m\u001b[0;34m)\u001b[0m \u001b[0;32min\u001b[0m \u001b[0mzip\u001b[0m\u001b[0;34m(\u001b[0m\u001b[0ma\u001b[0m\u001b[0;34m,\u001b[0m \u001b[0mb\u001b[0m\u001b[0;34m)\u001b[0m\u001b[0;34m]\u001b[0m\u001b[0;34m)\u001b[0m\u001b[0;34m\u001b[0m\u001b[0;34m\u001b[0m\u001b[0m\n\u001b[0m\u001b[1;32m    147\u001b[0m \u001b[0;34m\u001b[0m\u001b[0m\n\u001b[1;32m    148\u001b[0m     \u001b[0;31m# Sigmoid (activation function)\u001b[0m\u001b[0;34m\u001b[0m\u001b[0;34m\u001b[0m\u001b[0;34m\u001b[0m\u001b[0m\n",
      "\u001b[0;32m~/Documents/vsplit-nn/NN-scratch/src/NN.py\u001b[0m in \u001b[0;36m<listcomp>\u001b[0;34m(.0)\u001b[0m\n\u001b[1;32m    144\u001b[0m     \u001b[0;31m# Dot product\u001b[0m\u001b[0;34m\u001b[0m\u001b[0;34m\u001b[0m\u001b[0;34m\u001b[0m\u001b[0m\n\u001b[1;32m    145\u001b[0m     \u001b[0;32mdef\u001b[0m \u001b[0m_dotprod\u001b[0m\u001b[0;34m(\u001b[0m\u001b[0mself\u001b[0m\u001b[0;34m,\u001b[0m \u001b[0ma\u001b[0m\u001b[0;34m,\u001b[0m \u001b[0mb\u001b[0m\u001b[0;34m)\u001b[0m\u001b[0;34m:\u001b[0m\u001b[0;34m\u001b[0m\u001b[0;34m\u001b[0m\u001b[0m\n\u001b[0;32m--> 146\u001b[0;31m         \u001b[0;32mreturn\u001b[0m \u001b[0msum\u001b[0m\u001b[0;34m(\u001b[0m\u001b[0;34m[\u001b[0m\u001b[0ma_\u001b[0m \u001b[0;34m*\u001b[0m \u001b[0mb_\u001b[0m \u001b[0;32mfor\u001b[0m \u001b[0;34m(\u001b[0m\u001b[0ma_\u001b[0m\u001b[0;34m,\u001b[0m \u001b[0mb_\u001b[0m\u001b[0;34m)\u001b[0m \u001b[0;32min\u001b[0m \u001b[0mzip\u001b[0m\u001b[0;34m(\u001b[0m\u001b[0ma\u001b[0m\u001b[0;34m,\u001b[0m \u001b[0mb\u001b[0m\u001b[0;34m)\u001b[0m\u001b[0;34m]\u001b[0m\u001b[0;34m)\u001b[0m\u001b[0;34m\u001b[0m\u001b[0;34m\u001b[0m\u001b[0m\n\u001b[0m\u001b[1;32m    147\u001b[0m \u001b[0;34m\u001b[0m\u001b[0m\n\u001b[1;32m    148\u001b[0m     \u001b[0;31m# Sigmoid (activation function)\u001b[0m\u001b[0;34m\u001b[0m\u001b[0;34m\u001b[0m\u001b[0;34m\u001b[0m\u001b[0m\n",
      "\u001b[0;31mTypeError\u001b[0m: can't multiply sequence by non-int of type 'float'"
     ]
    }
   ],
   "source": [
    "# for oX in enumerate(splits):\n",
    "N, d = X.shape\n",
    "\n",
    "print(\"Neural network model:\")\n",
    "print(\" input_dim = {}\".format(d))\n",
    "print(\" hidden_layers = {}\".format(hidden_layers))\n",
    "print(\" output_dim = {}\".format(n_classes))\n",
    "print(\" eta = {}\".format(eta))\n",
    "print(\" n_epochs = {}\".format(n_epochs))\n",
    "print(\" n_folds = {}\".format(n_folds))\n",
    "print(\" seed_crossval = {}\".format(seed_crossval))\n",
    "print(\" seed_weights = {}\\n\".format(seed_weights))\n",
    "\n",
    "# Create cross-validation folds\n",
    "idx_all = np.arange(0, N)\n",
    "idx_folds = utils.crossval_folds(N, n_folds, seed=seed_crossval) # list of list of fold indices\n",
    "\n",
    "# Train/evaluate the model on each fold\n",
    "acc_train, acc_valid = list(), list()\n",
    "print(\"Cross-validating with {} folds...\".format(len(idx_folds)))\n",
    "for i, idx_valid in enumerate(idx_folds):\n",
    "#  seed=seed_weights\n",
    "    # Collect training and test data from folds\n",
    "    idx_train = np.delete(idx_all, idx_valid)\n",
    "    X_train, y_train = X[idx_train], y[idx_train]\n",
    "    X_valid, y_valid = X[idx_valid], y[idx_valid]\n",
    "\n",
    "    # Build neural network classifier model and train\n",
    "    # model = NN(input_dim=d, output_dim=n_classes,\n",
    "    #             hidden_layers=hidden_layers)\n",
    "    new_nn.train(X_train, y_train, eta=eta, n_epochs=n_epochs)\n",
    "\n",
    "    # Make predictions for training and test data\n",
    "    ypred_train = new_nn.predict(X_train)\n",
    "    ypred_valid = new_nn.predict(X_valid)\n",
    "\n",
    "    # Compute training/test accuracy score from predicted values\n",
    "    acc_train.append(100*np.sum(y_train==ypred_train)/len(y_train))\n",
    "    acc_valid.append(100*np.sum(y_valid==ypred_valid)/len(y_valid))\n",
    "\n",
    "    # Print cross-validation result\n",
    "    print(\" Fold {}/{}: acc_train = {:.2f}%, acc_valid = {:.2f}% (n_train = {}, n_valid {})\".format(i+1,n_folds, acc_train[-1], acc_valid[-1], len(X_train), len(X_valid)))\n",
    "\n",
    "# Print results\n",
    "print(o,\" : \")\n",
    "print(\"  -> acc_train_avg = {:.2f}%, acc_valid_avg = {:.2f}%\".format(sum(acc_train)/float(len(acc_train)), sum(acc_valid)/float(len(acc_valid))))"
   ]
  },
  {
   "cell_type": "code",
   "execution_count": 17,
   "metadata": {},
   "outputs": [
    {
     "name": "stdout",
     "output_type": "stream",
     "text": "wth []\nhitting new\n[[1.7839999728499583], [0.7176104564935332]]\n2 *******************\n2\n3\n3 *******************\n2\n3\n4 *******************\n2\n3\n5 *******************\n2\n3\n6 *******************\n2\n3\n7 *******************\n2\n3\n1\n2\n[array([ 1.98204522,  1.9611015 ,  1.67011331,  3.54395196,  2.05878376,\n        0.63998767, -2.97343809]), array([[-0.01383863],\n       [ 1.10496753]]), array([[-0.82140735, -0.83618645],\n       [-0.21618912, -0.45492768],\n       [-0.65659146, -0.58964821]])]\n"
    }
   ],
   "source": [
    "new=[]\n",
    "import copy\n",
    "print(\"wth\",new)\n",
    "rep = copy.deepcopy(wt)\n",
    "for i,mx in enumerate(rep):\n",
    "    # m2 = wt[i]\n",
    "    if i==0:\n",
    "        print(\"hitting new\")\n",
    "        new = mx\n",
    "        print(new[1])\n",
    "    else:\n",
    "        for j,lx in enumerate(mx):\n",
    "            if j==0 and i!=0:\n",
    "                # print(new[j],\"88\",lx)\n",
    "                \n",
    "                new[j] = np.append(new[j],lx)\n",
    "                print(len(new[j]),\"*******************\")\n",
    "            else:\n",
    "                new[j] = np.add(new[j],lx)\n",
    "                print(len(new[j]))\n",
    "\n",
    "for k in range(len(new)):\n",
    "    if not k == 0:\n",
    "        print(k)\n",
    "        new[k] = np.divide(new[k],len(wt))\n",
    "        # print(type(l1))\n",
    "print( new )"
   ]
  },
  {
   "cell_type": "code",
   "execution_count": 27,
   "metadata": {},
   "outputs": [
    {
     "name": "stdout",
     "output_type": "stream",
     "text": "[[1.7839999728499583], [0.7176104564935332]]\n1.7839999728499583\n[[1.8206642662766026], [0.6886832226593076]]\n3.604664239126561\n[[1.6531845128770661], [-0.42341311366899476]]\n5.257848752003627\n[[-2.529236238238605], [2.5016608956467277]]\n2.7286125137650217\n[[0.40174446701023525], [1.9877448607528796]]\n3.130356980775257\n[[-0.5913458219887041], [0.18835851088466854]]\n2.5390111587865527\n[[-2.6358815684924166], [2.07412789503947]]\n-0.09687040970586391\n-0.01383862995798056\n"
    }
   ],
   "source": [
    "rp=0\n",
    "for fp in range(len(wt)):\n",
    "    print(wt[fp][1])\n",
    "    rp += wt[fp][1][0][0]\n",
    "    print(rp)\n",
    "print(rp/7)"
   ]
  },
  {
   "cell_type": "code",
   "execution_count": null,
   "metadata": {},
   "outputs": [],
   "source": [
    "np.asarray([ 3.9273942 ,  1.9839786 ,  1.7497002 ,  3.1951442 ,  1.8707918 ,\n",
    "       -0.18531519,  1.9123502 ], dtype=\"float32\")"
   ]
  },
  {
   "cell_type": "code",
   "execution_count": null,
   "metadata": {},
   "outputs": [],
   "source": [
    "# sl = NN\n",
    "def splitLearn(X):\n",
    "    m,n=X.shape\n",
    "    splitWeights=list()\n",
    "    splits = np.hsplit(X,n)\n",
    "    # return splits\n",
    "\n",
    "    for o,oX in enumerate(splits):"
   ]
  }
 ]
}
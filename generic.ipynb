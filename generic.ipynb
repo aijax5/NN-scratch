{
 "nbformat": 4,
 "nbformat_minor": 2,
 "metadata": {
  "language_info": {
   "name": "python",
   "codemirror_mode": {
    "name": "ipython",
    "version": 3
   },
   "version": "3.6.8-final"
  },
  "orig_nbformat": 2,
  "file_extension": ".py",
  "mimetype": "text/x-python",
  "name": "python",
  "npconvert_exporter": "python",
  "pygments_lexer": "ipython3",
  "version": 3,
  "kernelspec": {
   "name": "python36864bitmlvenvvirtualenv7d88894919b14083a2990028bc2685ff",
   "display_name": "Python 3.6.8 64-bit ('ml_venv': virtualenv)"
  }
 },
 "cells": [
  {
   "cell_type": "code",
   "execution_count": 9,
   "metadata": {},
   "outputs": [],
   "source": [
    "import numpy as np\n",
    "from src.NN import NN\n",
    "import src.utils as utils\n",
    "\n",
    "# Settings\n",
    "csv_filename = \"data/seeds_dataset.csv\"\n",
    "hidden_layers = [10,5] # number of nodes in hidden layers i.e. [layer1, layer2, ...]\n",
    "eta = 0.1 # learning rate\n",
    "n_epochs = 400 # number of training epochs\n",
    "n_folds = 4 # number of folds for cross-validation\n",
    "seed_crossval = 1 # seed for cross-validation\n",
    "seed_weights = 1 # seed for NN weight initialization\n"
   ]
  },
  {
   "cell_type": "code",
   "execution_count": 10,
   "metadata": {},
   "outputs": [
    {
     "name": "stdout",
     "output_type": "stream",
     "text": "Reading 'data/seeds_dataset.csv'...\n -> X.shape = (210, 7), y.shape = (210,), n_classes = 3\n\nNeural network model:\n input_dim = 7\n hidden_layers = [10, 5]\n output_dim = 3\n eta = 0.1\n n_epochs = 400\n n_folds = 4\n seed_crossval = 1\n seed_weights = 1\n\n"
    }
   ],
   "source": [
    "\n",
    "print(\"Reading '{}'...\".format(csv_filename))\n",
    "X, y, n_classes = utils.read_csv(csv_filename, target_name=\"y\", normalize=True)\n",
    "print(\" -> X.shape = {}, y.shape = {}, n_classes = {}\\n\".format(X.shape, y.shape, n_classes))\n",
    "N, d = X.shape\n",
    "\n",
    "print(\"Neural network model:\")\n",
    "print(\" input_dim = {}\".format(d))\n",
    "print(\" hidden_layers = {}\".format(hidden_layers))\n",
    "print(\" output_dim = {}\".format(n_classes))\n",
    "print(\" eta = {}\".format(eta))\n",
    "print(\" n_epochs = {}\".format(n_epochs))\n",
    "print(\" n_folds = {}\".format(n_folds))\n",
    "print(\" seed_crossval = {}\".format(seed_crossval))\n",
    "print(\" seed_weights = {}\\n\".format(seed_weights))\n"
   ]
  },
  {
   "cell_type": "code",
   "execution_count": 11,
   "metadata": {},
   "outputs": [
    {
     "name": "stdout",
     "output_type": "stream",
     "text": "210  *  52\n"
    }
   ],
   "source": [
    "# Create cross-validation folds\n",
    "idx_all = np.arange(0, N)\n",
    "idx_folds = utils.crossval_folds(N, n_folds, seed=seed_crossval) \n",
    "print(N, \" * \" ,len(idx_folds[2]))"
   ]
  },
  {
   "cell_type": "code",
   "execution_count": 12,
   "metadata": {},
   "outputs": [
    {
     "name": "stdout",
     "output_type": "stream",
     "text": "Cross-validating with 4 folds...\n Fold 1/4: acc_train = 100.00%, acc_valid = 100.00% (n_train = 158, n_valid = 52)\n Fold 2/4: acc_train = 100.00%, acc_valid = 98.08% (n_train = 158, n_valid = 52)\n Fold 3/4: acc_train = 99.37%, acc_valid = 92.31% (n_train = 158, n_valid = 52)\n Fold 4/4: acc_train = 100.00%, acc_valid = 96.15% (n_train = 158, n_valid = 52)\n"
    }
   ],
   "source": [
    "acc_train, acc_valid = list(), list()\n",
    "print(\"Cross-validating with {} folds...\".format(len(idx_folds)))\n",
    "for i, idx_valid in enumerate(idx_folds):\n",
    "\n",
    "    # Collect training and test data from folds\n",
    "    idx_train = np.delete(idx_all, idx_valid)\n",
    "    X_train, y_train = X[idx_train], y[idx_train]\n",
    "    X_valid, y_valid = X[idx_valid], y[idx_valid]\n",
    "\n",
    "    # Build neural network classifier model and train\n",
    "    model = NN(input_dim=d, output_dim=n_classes,\n",
    "               hidden_layers=hidden_layers, seed=seed_weights)\n",
    "    model.train(X_train, y_train, eta=eta, n_epochs=n_epochs)\n",
    "\n",
    "    # Make predictions for training and test data\n",
    "    ypred_train = model.predict(X_train)\n",
    "    ypred_valid = model.predict(X_valid)\n",
    "\n",
    "    # Compute training/test accuracy score from predicted values\n",
    "    acc_train.append(100*np.sum(y_train==ypred_train)/len(y_train))\n",
    "    acc_valid.append(100*np.sum(y_valid==ypred_valid)/len(y_valid))\n",
    "\n",
    "    # Print cross-validation result\n",
    "    print(\" Fold {}/{}: acc_train = {:.2f}%, acc_valid = {:.2f}% (n_train = {}, n_valid = {})\".format(\n",
    "        i+1, n_folds, acc_train[-1], acc_valid[-1], len(X_train), len(X_valid)))\n",
    "\n"
   ]
  },
  {
   "cell_type": "code",
   "execution_count": 13,
   "metadata": {},
   "outputs": [
    {
     "name": "stdout",
     "output_type": "stream",
     "text": "-> acc_train_avg = 99.84%, acc_valid_avg = 96.63%\n"
    }
   ],
   "source": [
    "print(\"  -> acc_train_avg = {:.2f}%, acc_valid_avg = {:.2f}%\".format(\n",
    "    sum(acc_train)/float(len(acc_train)), sum(acc_valid)/float(len(acc_valid))))"
   ]
  },
  {
   "cell_type": "code",
   "execution_count": 21,
   "metadata": {},
   "outputs": [
    {
     "data": {
      "text/plain": "[[{'weights': [0.4722543538737304,\n    1.3909943388308543,\n    0.9461149772094228,\n    1.3238627999243633,\n    0.7064618412245778,\n    -0.7247896930123604,\n    -0.017196684200770727],\n   'output': 0.9573829397032176,\n   'delta': 4.873974152666821e-07},\n  {'weights': [-0.2576718082230313,\n    -1.1058820600379675,\n    -1.4430502414442934,\n    0.12315290480243551,\n    -0.8883792493272108,\n    1.6035753695213522,\n    2.222899197768633],\n   'output': 0.6003771894534309,\n   'delta': -2.968668009360861e-06},\n  {'weights': [0.4074515090763896,\n    1.3364753268537737,\n    -0.7095461604924896,\n    4.121656060508043,\n    0.14738199607525407,\n    0.06805538158854307,\n    -4.6806970155021075],\n   'output': 0.759941866825915,\n   'delta': 1.0502084303323566e-05},\n  {'weights': [0.10080735314575472,\n    0.8811306918198992,\n    1.9602912655250377,\n    0.26482637445050206,\n    0.020742610053619007,\n    -0.2564560288109864,\n    -4.617746070924197],\n   'output': 0.09924893858766962,\n   'delta': 9.099665046480885e-06},\n  {'weights': [-1.03760651214186,\n    -1.0599841635125227,\n    0.7601602348369463,\n    2.0662691478021773,\n    -1.0176406263496884,\n    -0.3051761514964597,\n    -0.9379507708187579],\n   'output': 0.13953126134591046,\n   'delta': -3.765870650821883e-06},\n  {'weights': [0.186285524099222,\n    0.9267226564243819,\n    0.8516754270461928,\n    -0.39333491185342767,\n    0.48720953289561625,\n    0.6547841878822349,\n    0.8791590303257507],\n   'output': 0.9132948613539745,\n   'delta': 1.281294634560507e-06},\n  {'weights': [0.4475535671217513,\n    0.6362516686197944,\n    1.255408730559691,\n    0.5761566801563481,\n    1.3477884494215895,\n    -0.4205163366494641,\n    1.2028054717702004],\n   'output': 0.9730228430032488,\n   'delta': 3.5544384522080194e-07},\n  {'weights': [0.8669268919892283,\n    0.4689928355781692,\n    1.0092329418677002,\n    0.4968693960592396,\n    1.1415536019085777,\n    -0.11954254951713024,\n    0.7913368805495358],\n   'output': 0.9654102956852788,\n   'delta': 6.374720850367075e-07},\n  {'weights': [-0.28860610644867374,\n    -0.751412339740705,\n    2.4453233339374423,\n    -1.9317159914251605,\n    0.36477113346767304,\n    1.5588615128904588,\n    2.511426383906395],\n   'output': 0.7799550335500384,\n   'delta': -5.5154434010120515e-06},\n  {'weights': [0.7156270352280109,\n    0.3915809185575474,\n    0.09972254006244256,\n    -0.7720167896849129,\n    0.8292718244156946,\n    0.6942398163212716,\n    0.5165596503639485],\n   'output': 0.8685776904405971,\n   'delta': 8.252095307664631e-07}],\n [{'weights': [0.41195322738247414,\n    0.3118344580546359,\n    0.04404885560924159,\n    0.9166100908948956,\n    2.2085468622144764,\n    0.4855491923707704,\n    0.24140841361260032,\n    -0.0019101369442527528,\n    0.8571998997200924,\n    0.8521017023218165],\n   'output': 0.9568687766279654,\n   'delta': -1.0249978325759675e-06},\n  {'weights': [2.3412842220404335,\n    -1.8315314756615542,\n    4.294833371185995,\n    2.3727973575953456,\n    -2.16912827087495,\n    1.0478499988119998,\n    1.6623852329785869,\n    1.4184494637650538,\n    -3.300220483665001,\n    0.8616760785499947],\n   'output': 0.998432783219808,\n   'delta': 1.0128637157906168e-05},\n  {'weights': [1.2446629796043671,\n    -0.0017763639248491126,\n    1.253344835608226,\n    1.3228506651070904,\n    1.2248418366539713,\n    0.8209226852900082,\n    0.9786908885699516,\n    0.6685773010245868,\n    0.5801685616541603,\n    0.5876435052435083],\n   'output': 0.996845044605139,\n   'delta': 3.3018266373064615e-07},\n  {'weights': [-2.099447018802912,\n    2.331996226271106,\n    -3.6696698838616015,\n    -2.711961137791356,\n    1.6271682336369413,\n    -0.25657189473069997,\n    -1.0925663204886165,\n    -1.064274865340098,\n    3.1378513171787334,\n    -0.31710055118559743],\n   'output': 0.02676124022579536,\n   'delta': -9.021789644588224e-06},\n  {'weights': [0.1707451005492487,\n    0.546271405433265,\n    -3.3592626234329996,\n    -3.8750914090811044,\n    -4.972844638585825,\n    1.6865231602817217,\n    1.559394068030688,\n    1.3949495906086935,\n    1.7092545883540156,\n    1.9632710627158043],\n   'output': 0.9866505387070389,\n   'delta': -3.7979836854603784e-06}],\n [{'weights': [-0.8171473712597779,\n    4.507948108703977,\n    0.7114836194463185,\n    -5.298427568643941,\n    -8.365787926480296],\n   'output': 0.01856600821405466,\n   'delta': 3.2200093968664654e-05},\n  {'weights': [-2.703972522410225,\n    1.3315039610738484,\n    -2.6660191588177438,\n    -1.067135143727688,\n    7.88925329732226],\n   'output': 0.9789553671421453,\n   'delta': 5.753435198970118e-06},\n  {'weights': [1.0721382520270806,\n    -6.132622061951823,\n    -0.10543532955975128,\n    5.2028857085108715,\n    -1.7424552327654053],\n   'output': 0.001132520200467636,\n   'delta': -1.2601538468030747e-05}]]"
     },
     "execution_count": 21,
     "metadata": {},
     "output_type": "execute_result"
    }
   ],
   "source": [
    "model.get_weights()"
   ]
  },
  {
   "cell_type": "code",
   "execution_count": 27,
   "metadata": {},
   "outputs": [
    {
     "data": {
      "text/plain": "7"
     },
     "execution_count": 27,
     "metadata": {},
     "output_type": "execute_result"
    }
   ],
   "source": [
    "def set_w():\n",
    "    w=list()\n",
    "    for layer in model.get_weights():\n",
    "        lw=[]\n",
    "        for node in layer:\n",
    "            lw.append(node[\"weights\"])\n",
    "        w.append(lw)\n",
    "    return w\n",
    "len(set_w()[0][1])"
   ]
  },
  {
   "cell_type": "code",
   "execution_count": null,
   "metadata": {},
   "outputs": [],
   "source": []
  }
 ]
}